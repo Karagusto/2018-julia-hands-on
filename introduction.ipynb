{
 "cells": [
  {
   "cell_type": "markdown",
   "metadata": {},
   "source": [
    "# <center><span style=\"color:red\">Introduction</span></center>\n",
    "\n",
    "---\n",
    "\n",
    "\n",
    "<a href=\"http://julialang.org\"><img src=\"https://camo.githubusercontent.com/e1ae5c7f6fe275a50134d5889a68f0acdd09ada8/687474703a2f2f6a756c69616c616e672e6f72672f696d616765732f6c6f676f5f68697265732e706e67\" width=\"160\" height=\"99\" alt=\"Julia Language\"></a>\n",
    "\n",
    "\n",
    "### [Julia](http://julialang.org) programming language\n",
    "\n",
    "* high level (numerical syntax)\n",
    "* high performance (efficient JIT compiler)\n",
    "* dynamic programming\n",
    "* scientific/technical computing\n",
    "\n",
    "* [Free software](https://github.com/JuliaLang/julia)\n",
    "    * MIT License\n",
    "    * Jeff Bezanson, Stefan Karpinski, Viral Shah, Alan Edelman (MIT)\n",
    "* Spin-off: [JuliaComputing](http://juliacomputing.com)\n",
    " * [JuliaBox](http://juliabox.com), Pro, DB, Fin, Run\n",
    "\n",
    "\n",
    "---\n",
    "\n",
    "\n",
    "## Why Julia?\n",
    "\n",
    "_\"Julia shows that one can have machine performance without sacrificing human convenience\"_ [1](http://arxiv.org/abs/1411.1607)\n",
    "\n",
    "\n",
    "### Easy to use: <span style=\"color:red\">Numerical syntax</span>\n",
    "\n",
    "Let's define the following function:\n",
    "\n",
    "$f(x) = 2x$ \n",
    "\n",
    "Let's now apply $f$ for $\\alpha=5$:"
   ]
  },
  {
   "cell_type": "code",
   "execution_count": 1,
   "metadata": {},
   "outputs": [
    {
     "data": {
      "text/plain": [
       "10"
      ]
     },
     "execution_count": 1,
     "metadata": {},
     "output_type": "execute_result"
    }
   ],
   "source": [
    "f(x) = 2x\n",
    "α = 5 # LaTex-like variables: \\alpha\n",
    "f(α)"
   ]
  },
  {
   "cell_type": "markdown",
   "metadata": {},
   "source": [
    "### Interactive\n",
    "\n",
    "* REPL: read-eval-print loop\n",
    "* **IDEs**: [Atom](https://atom.io/packages/language-julia), [JupyterLab](https://jupyterlab.readthedocs.io/en/latest/)\n",
    "\n",
    "### Flexible\n",
    "\n",
    "* Bindings for C, R, Matlab, Fortran, Python, Java, ...\n",
    "* Easy to hack: \n",
    " * [Multiple dispatch](https://docs.julialang.org/en/latest/) (at native code)\n",
    "  * Different behaviors according to function parameters\n",
    " * Customized [macros](http://docs.julialang.org/en/latest/manual/metaprogramming/#macros)\n",
    " * Open-source\n",
    "* MIT license (**free software**)\n",
    "\n",
    "### <span style=\"color:red\">Performance</span>\n",
    "\n",
    "* [Benchmark](http://julialang.org)\n",
    "* [LLVM](http://llvm.org) compiler\n",
    "* [Just-in-time (JIT)](https://en.wikipedia.org/wiki/Just-in-time_compilation) compiler\n",
    "* Optimization/parallelization\n",
    " * Native\n",
    " * External (e.g., [ParallelAccelerator.jl](https://github.com/IntelLabs/ParallelAccelerator.jl))\n",
    " * [NVIDIA GPUs](https://devblogs.nvidia.com/gpu-computing-julia-programming-language/)"
   ]
  },
  {
   "cell_type": "code",
   "execution_count": 3,
   "metadata": {},
   "outputs": [
    {
     "name": "stdout",
     "output_type": "stream",
     "text": [
      "\t.section\t__TEXT,__text,regular,pure_instructions\n",
      "Filename: In[2]\n",
      "\tpushl\t%ebp\n",
      "\tdecl\t%eax\n",
      "\tmovl\t%esp, %ebp\n",
      "Source line: 1\n",
      "\tdecl\t%eax\n",
      "\tleal\t(%edi,%edi), %eax\n",
      "\tpopl\t%ebp\n",
      "\tretl\n",
      "\tnop\n",
      "\tnop\n",
      "\tnop\n",
      "\tnop\n",
      "\tnop\n",
      "\tnop\n"
     ]
    }
   ],
   "source": [
    "@code_native f(2)"
   ]
  },
  {
   "cell_type": "code",
   "execution_count": 5,
   "metadata": {},
   "outputs": [
    {
     "name": "stdout",
     "output_type": "stream",
     "text": [
      "search: \u001b[1mc\u001b[22m\u001b[1mo\u001b[22m\u001b[1md\u001b[22m\u001b[1me\u001b[22m\u001b[1m_\u001b[22m\u001b[1mn\u001b[22m\u001b[1ma\u001b[22m\u001b[1mt\u001b[22m\u001b[1mi\u001b[22m\u001b[1mv\u001b[22m\u001b[1me\u001b[22m @\u001b[1mc\u001b[22m\u001b[1mo\u001b[22m\u001b[1md\u001b[22m\u001b[1me\u001b[22m\u001b[1m_\u001b[22m\u001b[1mn\u001b[22m\u001b[1ma\u001b[22m\u001b[1mt\u001b[22m\u001b[1mi\u001b[22m\u001b[1mv\u001b[22m\u001b[1me\u001b[22m\n",
      "\n"
     ]
    },
    {
     "data": {
      "text/markdown": [
       "```\n",
       "code_native([io], f, types, [syntax])\n",
       "```\n",
       "\n",
       "Prints the native assembly instructions generated for running the method matching the given generic function and type signature to `io` which defaults to `STDOUT`. Switch assembly syntax using `syntax` symbol parameter set to `:att` for AT&T syntax or `:intel` for Intel syntax. Output is AT&T syntax by default.\n"
      ],
      "text/plain": [
       "```\n",
       "code_native([io], f, types, [syntax])\n",
       "```\n",
       "\n",
       "Prints the native assembly instructions generated for running the method matching the given generic function and type signature to `io` which defaults to `STDOUT`. Switch assembly syntax using `syntax` symbol parameter set to `:att` for AT&T syntax or `:intel` for Intel syntax. Output is AT&T syntax by default.\n"
      ]
     },
     "execution_count": 5,
     "metadata": {},
     "output_type": "execute_result"
    }
   ],
   "source": [
    "?code_native"
   ]
  },
  {
   "cell_type": "markdown",
   "metadata": {},
   "source": [
    "### Addresses the Two-language problem\n",
    "\n",
    "* Prototype\n",
    "* Production (deployment, performance)\n",
    "\n",
    "### Native <span style=\"color:red\">support for distributed computing</span>\n",
    "\n",
    "* Master/Worker pattern, multithreading, tasks, clusters, parallel MapReduce, distributed arrays, macros, etc.\n",
    "* JuliaParallel environment\n",
    " * [Packages](https://github.com/JuliaParallel)\n",
    " * [Documentation](https://docs.julialang.org/en/stable/stdlib/parallel/)\n",
    "* Examples:\n",
    " * [Tasks](https://docs.julialang.org/en/stable/stdlib/parallel/#Tasks-1)\n",
    " * [Multi-threading (experimental)](https://docs.julialang.org/en/latest/base/multi-threading/#Multi-Threading-1)\n",
    " * [MPI.jl](https://github.com/JuliaParallel/MPI.jl): MPI wrapper (tested with Open MPI and MPICH).\n",
    "\n",
    "\n",
    "### BLAS ([Basic Linear Algebra Subprograms](https://en.wikipedia.org/wiki/Basic_Linear_Algebra_Subprograms)) Support\n",
    "\n",
    "* Julia uses OpenBLAS but can be configured to use other BLAS implementations.\n",
    "\n",
    "### In a nutshell?\n",
    "\n",
    "Julia allows <span style=\"color:red\">**to easily build (distributed) systems prototypes**</span> which can be straightforwardly modified for production purposes.\n",
    "\n",
    "* E.g., Julia instead of Python + R."
   ]
  },
  {
   "cell_type": "markdown",
   "metadata": {},
   "source": [
    "## Handy stuff\n",
    "\n",
    "### Tab completion"
   ]
  },
  {
   "cell_type": "code",
   "execution_count": 3,
   "metadata": {},
   "outputs": [],
   "source": [
    "using Base.Test"
   ]
  },
  {
   "cell_type": "markdown",
   "metadata": {},
   "source": [
    "### [Macros](http://docs.julialang.org/en/latest/manual/metaprogramming/#macros)\n",
    "\n",
    "\"Macros are necessary because **they execute when code is parsed**, therefore, macros allow the programmer to generate and include **fragments of customized code before the full program is run**.\"\n"
   ]
  },
  {
   "cell_type": "markdown",
   "metadata": {},
   "source": [
    "#### ```@test``` macro"
   ]
  },
  {
   "cell_type": "code",
   "execution_count": 4,
   "metadata": {},
   "outputs": [
    {
     "data": {
      "text/plain": [
       "\u001b[1m\u001b[32mTest Passed\u001b[39m\u001b[22m"
      ]
     },
     "execution_count": 4,
     "metadata": {},
     "output_type": "execute_result"
    }
   ],
   "source": [
    "@test 1+1==2"
   ]
  },
  {
   "cell_type": "markdown",
   "metadata": {},
   "source": [
    "#### ```@time``` macro"
   ]
  },
  {
   "cell_type": "code",
   "execution_count": 5,
   "metadata": {},
   "outputs": [
    {
     "name": "stdout",
     "output_type": "stream",
     "text": [
      "  0.000008 seconds (83 allocations: 6.092 KiB)\n"
     ]
    },
    {
     "data": {
      "text/plain": [
       "2"
      ]
     },
     "execution_count": 5,
     "metadata": {},
     "output_type": "execute_result"
    }
   ],
   "source": [
    "@time 1+1"
   ]
  },
  {
   "cell_type": "markdown",
   "metadata": {},
   "source": [
    "#### ```@show``` macro"
   ]
  },
  {
   "cell_type": "code",
   "execution_count": 6,
   "metadata": {},
   "outputs": [
    {
     "name": "stdout",
     "output_type": "stream",
     "text": [
      "i = 0\n"
     ]
    },
    {
     "data": {
      "text/plain": [
       "0"
      ]
     },
     "execution_count": 6,
     "metadata": {},
     "output_type": "execute_result"
    }
   ],
   "source": [
    "i = 0\n",
    "@show i"
   ]
  },
  {
   "cell_type": "markdown",
   "metadata": {},
   "source": [
    "### Help"
   ]
  },
  {
   "cell_type": "code",
   "execution_count": 7,
   "metadata": {},
   "outputs": [
    {
     "name": "stdout",
     "output_type": "stream",
     "text": [
      "search: \u001b[1ms\u001b[22m\u001b[1mh\u001b[22m\u001b[1mo\u001b[22m\u001b[1mw\u001b[22m \u001b[1ms\u001b[22m\u001b[1mh\u001b[22m\u001b[1mo\u001b[22m\u001b[1mw\u001b[22mall \u001b[1ms\u001b[22m\u001b[1mh\u001b[22m\u001b[1mo\u001b[22m\u001b[1mw\u001b[22merror \u001b[1ms\u001b[22m\u001b[1mh\u001b[22m\u001b[1mo\u001b[22m\u001b[1mw\u001b[22mcompact @\u001b[1ms\u001b[22m\u001b[1mh\u001b[22m\u001b[1mo\u001b[22m\u001b[1mw\u001b[22m @te\u001b[1ms\u001b[22mt_t\u001b[1mh\u001b[22mr\u001b[1mo\u001b[22m\u001b[1mw\u001b[22ms C\u001b[1ms\u001b[22m\u001b[1mh\u001b[22m\u001b[1mo\u001b[22mrt Cu\u001b[1ms\u001b[22m\u001b[1mh\u001b[22m\u001b[1mo\u001b[22mrt\n",
      "\n"
     ]
    },
    {
     "data": {
      "text/markdown": [
       "```\n",
       "show(stream, mime, x)\n",
       "```\n",
       "\n",
       "The `display` functions ultimately call `show` in order to write an object `x` as a given `mime` type to a given I/O `stream` (usually a memory buffer), if possible. In order to provide a rich multimedia representation of a user-defined type `T`, it is only necessary to define a new `show` method for `T`, via: `show(stream, ::MIME\"mime\", x::T) = ...`, where `mime` is a MIME-type string and the function body calls `write` (or similar) to write that representation of `x` to `stream`. (Note that the `MIME\"\"` notation only supports literal strings; to construct `MIME` types in a more flexible manner use `MIME{Symbol(\"\")}`.)\n",
       "\n",
       "For example, if you define a `MyImage` type and know how to write it to a PNG file, you could define a function `show(stream, ::MIME\"image/png\", x::MyImage) = ...` to allow your images to be displayed on any PNG-capable `Display` (such as IJulia). As usual, be sure to `import Base.show` in order to add new methods to the built-in Julia function `show`.\n",
       "\n",
       "The default MIME type is `MIME\"text/plain\"`. There is a fallback definition for `text/plain` output that calls `show` with 2 arguments. Therefore, this case should be handled by defining a 2-argument `show(stream::IO, x::MyType)` method.\n",
       "\n",
       "Technically, the `MIME\"mime\"` macro defines a singleton type for the given `mime` string, which allows us to exploit Julia's dispatch mechanisms in determining how to display objects of any given type.\n",
       "\n",
       "The first argument to `show` can be an [`IOContext`](@ref) specifying output format properties. See [`IOContext`](@ref) for details.\n",
       "\n",
       "```\n",
       "show(x)\n",
       "```\n",
       "\n",
       "Write an informative text representation of a value to the current output stream. New types should overload `show(io, x)` where the first argument is a stream. The representation used by `show` generally includes Julia-specific formatting and type information.\n"
      ],
      "text/plain": [
       "```\n",
       "show(stream, mime, x)\n",
       "```\n",
       "\n",
       "The `display` functions ultimately call `show` in order to write an object `x` as a given `mime` type to a given I/O `stream` (usually a memory buffer), if possible. In order to provide a rich multimedia representation of a user-defined type `T`, it is only necessary to define a new `show` method for `T`, via: `show(stream, ::MIME\"mime\", x::T) = ...`, where `mime` is a MIME-type string and the function body calls `write` (or similar) to write that representation of `x` to `stream`. (Note that the `MIME\"\"` notation only supports literal strings; to construct `MIME` types in a more flexible manner use `MIME{Symbol(\"\")}`.)\n",
       "\n",
       "For example, if you define a `MyImage` type and know how to write it to a PNG file, you could define a function `show(stream, ::MIME\"image/png\", x::MyImage) = ...` to allow your images to be displayed on any PNG-capable `Display` (such as IJulia). As usual, be sure to `import Base.show` in order to add new methods to the built-in Julia function `show`.\n",
       "\n",
       "The default MIME type is `MIME\"text/plain\"`. There is a fallback definition for `text/plain` output that calls `show` with 2 arguments. Therefore, this case should be handled by defining a 2-argument `show(stream::IO, x::MyType)` method.\n",
       "\n",
       "Technically, the `MIME\"mime\"` macro defines a singleton type for the given `mime` string, which allows us to exploit Julia's dispatch mechanisms in determining how to display objects of any given type.\n",
       "\n",
       "The first argument to `show` can be an [`IOContext`](@ref) specifying output format properties. See [`IOContext`](@ref) for details.\n",
       "\n",
       "```\n",
       "show(x)\n",
       "```\n",
       "\n",
       "Write an informative text representation of a value to the current output stream. New types should overload `show(io, x)` where the first argument is a stream. The representation used by `show` generally includes Julia-specific formatting and type information.\n"
      ]
     },
     "execution_count": 7,
     "metadata": {},
     "output_type": "execute_result"
    }
   ],
   "source": [
    "?show"
   ]
  },
  {
   "cell_type": "markdown",
   "metadata": {},
   "source": [
    "### <span style=\"color:red\">Code Optimization</span>\n",
    "* [Performance Annotations](https://docs.julialang.org/en/stable/manual/performance-tips/#Performance-Annotations-1)\n",
    "* [Profiling](https://docs.julialang.org/en/stable/manual/profile/#Profiling-1)\n",
    " * _\"The Profile module provides tools to help developers improve the performance of their code. When used, it takes measurements on running code, and produces output that helps you understand **how much time is spent on individual line(s)**. \"_\n",
    "* [https://docs.julialang.org/en/stable/manual/modules/#Module-initialization-and-precompilation-1](https://docs.julialang.org/en/stable/manual/modules/#Module-initialization-and-precompilation-1)\n",
    "* [Measure performance with @time and pay attention to memory allocation](https://docs.julialang.org/en/stable/manual/performance-tips/#Measure-performance-with-[@time](@ref)-and-pay-attention-to-memory-allocation-1)\n",
    "* [https://docs.julialang.org/en/stable/manual/calling-c-and-fortran-code/#Creating-C-Compatible-Julia-Function-Pointers-1](https://docs.julialang.org/en/stable/manual/calling-c-and-fortran-code/#Creating-C-Compatible-Julia-Function-Pointers-1)\n",
    "* [Vectorization in Julia](https://software.intel.com/en-us/articles/vectorization-in-julia) from Intel Dev Zone\n",
    "* [ParallelAccelerator.jl](https://github.com/IntelLabs/ParallelAccelerator.jl) from Intel Labs"
   ]
  },
  {
   "cell_type": "markdown",
   "metadata": {},
   "source": [
    "### Learning\n",
    "\n",
    "* [**Julia official documentation (Manual)**](http://docs.julialang.org/en/latest/)\n",
    "* [The Julia Standard Library](https://docs.julialang.org/en/v0.6.2/stdlib/base/)    \n",
    "* [Community](http://julialang.org/community/)\n",
    "    * Discourse\n",
    "    * **Julia projects**\n",
    "        * **JuliaParallel** – Parallel programming in Julia\n",
    "        * **JuliaGPU** – GPU computing\n",
    "        * **JuliaStats** – Statistics\n",
    "        * **JuliaWeb** – Web stack\n",
    "        * JuliaDiff – Differentiation tools\n",
    "        * JuliaDSP – Digital signal processing\n",
    "        * JuliaGraphs – Graph Theory and Implementation \n",
    "        * JuliaOpt – Optimization\n",
    "        * JuliaAstro – Astronomy\n",
    "        * JuliaSparse – Sparse matrix solvers\n",
    "        * ...\n",
    "    * ...\n",
    "* List of resources for [learning Julia](http://julialang.org/learning/)\n",
    "* [Julia By Example](http://samuelcolvin.github.io/JuliaByExample/)"
   ]
  },
  {
   "cell_type": "markdown",
   "metadata": {},
   "source": [
    "---\n",
    "\n",
    "# [Package system](http://pkg.julialang.org/pulse.html)\n",
    "\n",
    "* Built-in package manager\n",
    "* [List of packages](http://pkg.julialang.org)\n",
    "* [Overview (Pulse)](http://pkg.julialang.org/pulse.html)\n",
    "\n",
    "<a href=\"https://pkg.julialang.org/pulse.html\"><img src=\"https://pkg.julialang.org/img/allver.svg\"></a>\n",
    "\n",
    "\n",
    "\n",
    "\n",
    "### Example using ```Distributions``` package:    "
   ]
  },
  {
   "cell_type": "code",
   "execution_count": 8,
   "metadata": {},
   "outputs": [
    {
     "data": {
      "text/plain": [
       "1886-element Array{AbstractString,1}:\n",
       " \"AbaqusReader\"          \n",
       " \"AbbrvKW\"               \n",
       " \"AbstractAlgebra\"       \n",
       " \"AbstractDomains\"       \n",
       " \"AbstractFFTs\"          \n",
       " \"AbstractNumbers\"       \n",
       " \"AbstractOperators\"     \n",
       " \"AbstractTables\"        \n",
       " \"AbstractTrees\"         \n",
       " \"Accumulo\"              \n",
       " \"AccurateArithmetic\"    \n",
       " \"ACME\"                  \n",
       " \"ActiveAppearanceModels\"\n",
       " ⋮                       \n",
       " \"Yeppp\"                 \n",
       " \"YT\"                    \n",
       " \"Zabbix\"                \n",
       " \"ZChop\"                 \n",
       " \"Zeros\"                 \n",
       " \"ZipCode\"               \n",
       " \"ZipFile\"               \n",
       " \"ZippedArrays\"          \n",
       " \"Zlib\"                  \n",
       " \"ZMQ\"                   \n",
       " \"ZOOclient\"             \n",
       " \"ZVSimulator\"           "
      ]
     },
     "execution_count": 8,
     "metadata": {},
     "output_type": "execute_result"
    }
   ],
   "source": [
    "Pkg.available()"
   ]
  },
  {
   "cell_type": "code",
   "execution_count": 9,
   "metadata": {},
   "outputs": [
    {
     "name": "stderr",
     "output_type": "stream",
     "text": [
      "\u001b[1m\u001b[36mINFO: \u001b[39m\u001b[22m\u001b[36mCloning cache of Distributions from https://github.com/JuliaStats/Distributions.jl.git\n",
      "\u001b[39m\u001b[1m\u001b[36mINFO: \u001b[39m\u001b[22m\u001b[36mCloning cache of PDMats from https://github.com/JuliaStats/PDMats.jl.git\n",
      "\u001b[39m\u001b[1m\u001b[36mINFO: \u001b[39m\u001b[22m\u001b[36mCloning cache of QuadGK from https://github.com/JuliaMath/QuadGK.jl.git\n",
      "\u001b[39m\u001b[1m\u001b[36mINFO: \u001b[39m\u001b[22m\u001b[36mCloning cache of Rmath from https://github.com/JuliaStats/Rmath.jl.git\n",
      "\u001b[39m\u001b[1m\u001b[36mINFO: \u001b[39m\u001b[22m\u001b[36mCloning cache of StatsFuns from https://github.com/JuliaStats/StatsFuns.jl.git\n",
      "\u001b[39m\u001b[1m\u001b[36mINFO: \u001b[39m\u001b[22m\u001b[36mInstalling Distributions v0.15.0\n",
      "\u001b[39m\u001b[1m\u001b[36mINFO: \u001b[39m\u001b[22m\u001b[36mInstalling PDMats v0.8.0\n",
      "\u001b[39m\u001b[1m\u001b[36mINFO: \u001b[39m\u001b[22m\u001b[36mInstalling QuadGK v0.2.1\n",
      "\u001b[39m\u001b[1m\u001b[36mINFO: \u001b[39m\u001b[22m\u001b[36mInstalling Rmath v0.3.3\n",
      "\u001b[39m\u001b[1m\u001b[36mINFO: \u001b[39m\u001b[22m\u001b[36mInstalling StatsFuns v0.6.0\n",
      "\u001b[39m\u001b[1m\u001b[36mINFO: \u001b[39m\u001b[22m\u001b[36mBuilding SpecialFunctions\n",
      "\u001b[39m\u001b[1m\u001b[36mINFO: \u001b[39m\u001b[22m\u001b[36mBuilding Rmath\n",
      "\u001b[39m\u001b[1m\u001b[36mInfo: \u001b[39m\u001b[22m\u001b[36mAttempting to create directory /Users/alage/.julia/v0.6/Rmath/deps/downloads\n",
      "\u001b[39m\u001b[1m\u001b[36mInfo: \u001b[39m\u001b[22m\u001b[36mDownloading file https://github.com/JuliaLang/Rmath-julia/archive/v0.2.0.tar.gz\n",
      "\u001b[39m  % Total    % Received % Xferd  Average Speed   Time    Time     Time  Current\n",
      "                                 Dload  Upload   Total   Spent    Left  Speed\n",
      "100   129    0   129    0     0    201      0 --:--:-- --:--:-- --:--:--   200\n",
      "100   130    0   130    0     0    153      0 --:--:-- --:--:-- --:--:--   153\n",
      "100  155k  100  155k    0     0  47701      0  0:00:03  0:00:03 --:--:--  161k\n",
      "\u001b[1m\u001b[36mInfo: \u001b[39m\u001b[22m\u001b[36mDone downloading file https://github.com/JuliaLang/Rmath-julia/archive/v0.2.0.tar.gz\n",
      "\u001b[39m\u001b[1m\u001b[36mInfo: \u001b[39m\u001b[22m\u001b[36mAttempting to create directory /Users/alage/.julia/v0.6/Rmath/deps/src\n",
      "\u001b[39m\u001b[1m\u001b[36mInfo: \u001b[39m\u001b[22m\u001b[36mAttempting to create directory /Users/alage/.julia/v0.6/Rmath/deps\n",
      "\u001b[39m\u001b[1m\u001b[36mInfo: \u001b[39m\u001b[22m\u001b[36mDirectory /Users/alage/.julia/v0.6/Rmath/deps already exists\n",
      "\u001b[39m\u001b[1m\u001b[36mInfo: \u001b[39m\u001b[22m\u001b[36mAttempting to create directory /Users/alage/.julia/v0.6/Rmath/deps/usr/lib\n",
      "\u001b[39m\u001b[1m\u001b[36mInfo: \u001b[39m\u001b[22m\u001b[36mChanging directory to /Users/alage/.julia/v0.6/Rmath/deps/src/Rmath-julia-0.2.0\n",
      "\u001b[39m"
     ]
    },
    {
     "name": "stdout",
     "output_type": "stream",
     "text": [
      "/Applications/Xcode.app/Contents/Developer/usr/bin/make -C src\n",
      "gcc  -Wall -O3 -fPIC -DMATHLIB_STANDALONE   -std=gnu99 -I../include -DNDEBUG -c bd0.c -o bd0.o\n",
      "gcc  -Wall -O3 -fPIC -DMATHLIB_STANDALONE   -std=gnu99 -I../include -DNDEBUG -c bessel_i.c -o bessel_i.o\n",
      "gcc  -Wall -O3 -fPIC -DMATHLIB_STANDALONE   -std=gnu99 -I../include -DNDEBUG -c bessel_j.c -o bessel_j.o\n",
      "gcc  -Wall -O3 -fPIC -DMATHLIB_STANDALONE   -std=gnu99 -I../include -DNDEBUG -c bessel_k.c -o bessel_k.o\n",
      "gcc  -Wall -O3 -fPIC -DMATHLIB_STANDALONE   -std=gnu99 -I../include -DNDEBUG -c bessel_y.c -o bessel_y.o\n",
      "gcc  -Wall -O3 -fPIC -DMATHLIB_STANDALONE   -std=gnu99 -I../include -DNDEBUG -c beta.c -o beta.o\n",
      "gcc  -Wall -O3 -fPIC -DMATHLIB_STANDALONE   -std=gnu99 -I../include -DNDEBUG -c callback.c -o callback.o\n",
      "gcc  -Wall -O3 -fPIC -DMATHLIB_STANDALONE   -std=gnu99 -I../include -DNDEBUG -c chebyshev.c -o chebyshev.o\n",
      "gcc  -Wall -O3 -fPIC -DMATHLIB_STANDALONE   -std=gnu99 -I../include -DNDEBUG -c choose.c -o choose.o\n",
      "gcc  -Wall -O3 -fPIC -DMATHLIB_STANDALONE   -std=gnu99 -I../include -DNDEBUG -c cospi.c -o cospi.o\n",
      "gcc  -Wall -O3 -fPIC -DMATHLIB_STANDALONE   -std=gnu99 -I../include -DNDEBUG -c d1mach.c -o d1mach.o\n",
      "gcc  -Wall -O3 -fPIC -DMATHLIB_STANDALONE   -std=gnu99 -I../include -DNDEBUG -c dbeta.c -o dbeta.o\n",
      "gcc  -Wall -O3 -fPIC -DMATHLIB_STANDALONE   -std=gnu99 -I../include -DNDEBUG -c dbinom.c -o dbinom.o\n",
      "gcc  -Wall -O3 -fPIC -DMATHLIB_STANDALONE   -std=gnu99 -I../include -DNDEBUG -c dcauchy.c -o dcauchy.o\n",
      "gcc  -Wall -O3 -fPIC -DMATHLIB_STANDALONE   -std=gnu99 -I../include -DNDEBUG -c dchisq.c -o dchisq.o\n",
      "gcc  -Wall -O3 -fPIC -DMATHLIB_STANDALONE   -std=gnu99 -I../include -DNDEBUG -c dexp.c -o dexp.o\n",
      "gcc  -Wall -O3 -fPIC -DMATHLIB_STANDALONE   -std=gnu99 -I../include -DNDEBUG -c df.c -o df.o\n",
      "gcc  -Wall -O3 -fPIC -DMATHLIB_STANDALONE   -std=gnu99 -I../include -DNDEBUG -c dgamma.c -o dgamma.o\n",
      "gcc  -Wall -O3 -fPIC -DMATHLIB_STANDALONE   -std=gnu99 -I../include -DNDEBUG -c dgeom.c -o dgeom.o\n",
      "gcc  -Wall -O3 -fPIC -DMATHLIB_STANDALONE   -std=gnu99 -I../include -DNDEBUG -c dhyper.c -o dhyper.o\n",
      "gcc  -Wall -O3 -fPIC -DMATHLIB_STANDALONE   -std=gnu99 -I../include -DNDEBUG -c dlnorm.c -o dlnorm.o\n",
      "gcc  -Wall -O3 -fPIC -DMATHLIB_STANDALONE   -std=gnu99 -I../include -DNDEBUG -c dlogis.c -o dlogis.o\n",
      "gcc  -Wall -O3 -fPIC -DMATHLIB_STANDALONE   -std=gnu99 -I../include -DNDEBUG -c dnbeta.c -o dnbeta.o\n",
      "gcc  -Wall -O3 -fPIC -DMATHLIB_STANDALONE   -std=gnu99 -I../include -DNDEBUG -c dnbinom.c -o dnbinom.o\n",
      "gcc  -Wall -O3 -fPIC -DMATHLIB_STANDALONE   -std=gnu99 -I../include -DNDEBUG -c dnchisq.c -o dnchisq.o\n",
      "gcc  -Wall -O3 -fPIC -DMATHLIB_STANDALONE   -std=gnu99 -I../include -DNDEBUG -c dnf.c -o dnf.o\n",
      "gcc  -Wall -O3 -fPIC -DMATHLIB_STANDALONE   -std=gnu99 -I../include -DNDEBUG -c dnorm.c -o dnorm.o\n",
      "gcc  -Wall -O3 -fPIC -DMATHLIB_STANDALONE   -std=gnu99 -I../include -DNDEBUG -c dnt.c -o dnt.o\n",
      "gcc  -Wall -O3 -fPIC -DMATHLIB_STANDALONE   -std=gnu99 -I../include -DNDEBUG -c dpois.c -o dpois.o\n",
      "gcc  -Wall -O3 -fPIC -DMATHLIB_STANDALONE   -std=gnu99 -I../include -DNDEBUG -c dt.c -o dt.o\n",
      "gcc  -Wall -O3 -fPIC -DMATHLIB_STANDALONE   -std=gnu99 -I../include -DNDEBUG -c dunif.c -o dunif.o\n",
      "gcc  -Wall -O3 -fPIC -DMATHLIB_STANDALONE   -std=gnu99 -I../include -DNDEBUG -c dweibull.c -o dweibull.o\n",
      "gcc  -Wall -O3 -fPIC -DMATHLIB_STANDALONE   -std=gnu99 -I../include -DNDEBUG -c expm1.c -o expm1.o\n",
      "gcc  -Wall -O3 -fPIC -DMATHLIB_STANDALONE   -std=gnu99 -I../include -DNDEBUG -c fmax2.c -o fmax2.o\n",
      "gcc  -Wall -O3 -fPIC -DMATHLIB_STANDALONE   -std=gnu99 -I../include -DNDEBUG -c fmin2.c -o fmin2.o\n",
      "gcc  -Wall -O3 -fPIC -DMATHLIB_STANDALONE   -std=gnu99 -I../include -DNDEBUG -c fprec.c -o fprec.o\n",
      "gcc  -Wall -O3 -fPIC -DMATHLIB_STANDALONE   -std=gnu99 -I../include -DNDEBUG -c fround.c -o fround.o\n",
      "gcc  -Wall -O3 -fPIC -DMATHLIB_STANDALONE   -std=gnu99 -I../include -DNDEBUG -c fsign.c -o fsign.o\n",
      "gcc  -Wall -O3 -fPIC -DMATHLIB_STANDALONE   -std=gnu99 -I../include -DNDEBUG -c ftrunc.c -o ftrunc.o\n",
      "gcc  -Wall -O3 -fPIC -DMATHLIB_STANDALONE   -std=gnu99 -I../include -DNDEBUG -c gamma.c -o gamma.o\n",
      "gcc  -Wall -O3 -fPIC -DMATHLIB_STANDALONE   -std=gnu99 -I../include -DNDEBUG -c gamma_cody.c -o gamma_cody.o\n",
      "gcc  -Wall -O3 -fPIC -DMATHLIB_STANDALONE   -std=gnu99 -I../include -DNDEBUG -c gammalims.c -o gammalims.o\n",
      "gcc  -Wall -O3 -fPIC -DMATHLIB_STANDALONE   -std=gnu99 -I../include -DNDEBUG -c i1mach.c -o i1mach.o\n",
      "gcc  -Wall -O3 -fPIC -DMATHLIB_STANDALONE   -std=gnu99 -I../include -DNDEBUG -c imax2.c -o imax2.o\n",
      "gcc  -Wall -O3 -fPIC -DMATHLIB_STANDALONE   -std=gnu99 -I../include -DNDEBUG -c imin2.c -o imin2.o\n",
      "gcc  -Wall -O3 -fPIC -DMATHLIB_STANDALONE   -std=gnu99 -I../include -DNDEBUG -c lbeta.c -o lbeta.o\n",
      "gcc  -Wall -O3 -fPIC -DMATHLIB_STANDALONE   -std=gnu99 -I../include -DNDEBUG -c lgamma.c -o lgamma.o\n",
      "gcc  -Wall -O3 -fPIC -DMATHLIB_STANDALONE   -std=gnu99 -I../include -DNDEBUG -c lgammacor.c -o lgammacor.o\n",
      "gcc  -Wall -O3 -fPIC -DMATHLIB_STANDALONE   -std=gnu99 -I../include -DNDEBUG -c log1p.c -o log1p.o\n",
      "gcc  -Wall -O3 -fPIC -DMATHLIB_STANDALONE   -std=gnu99 -I../include -DNDEBUG -c mlutils.c -o mlutils.o\n",
      "gcc  -Wall -O3 -fPIC -DMATHLIB_STANDALONE   -std=gnu99 -I../include -DNDEBUG -c pbeta.c -o pbeta.o\n",
      "gcc  -Wall -O3 -fPIC -DMATHLIB_STANDALONE   -std=gnu99 -I../include -DNDEBUG -c pbinom.c -o pbinom.o\n",
      "gcc  -Wall -O3 -fPIC -DMATHLIB_STANDALONE   -std=gnu99 -I../include -DNDEBUG -c pcauchy.c -o pcauchy.o\n",
      "gcc  -Wall -O3 -fPIC -DMATHLIB_STANDALONE   -std=gnu99 -I../include -DNDEBUG -c pchisq.c -o pchisq.o\n",
      "gcc  -Wall -O3 -fPIC -DMATHLIB_STANDALONE   -std=gnu99 -I../include -DNDEBUG -c pexp.c -o pexp.o\n",
      "gcc  -Wall -O3 -fPIC -DMATHLIB_STANDALONE   -std=gnu99 -I../include -DNDEBUG -c pf.c -o pf.o\n",
      "gcc  -Wall -O3 -fPIC -DMATHLIB_STANDALONE   -std=gnu99 -I../include -DNDEBUG -c pgamma.c -o pgamma.o\n",
      "gcc  -Wall -O3 -fPIC -DMATHLIB_STANDALONE   -std=gnu99 -I../include -DNDEBUG -c pgeom.c -o pgeom.o\n",
      "gcc  -Wall -O3 -fPIC -DMATHLIB_STANDALONE   -std=gnu99 -I../include -DNDEBUG -c phyper.c -o phyper.o\n",
      "gcc  -Wall -O3 -fPIC -DMATHLIB_STANDALONE   -std=gnu99 -I../include -DNDEBUG -c plnorm.c -o plnorm.o\n",
      "gcc  -Wall -O3 -fPIC -DMATHLIB_STANDALONE   -std=gnu99 -I../include -DNDEBUG -c plogis.c -o plogis.o\n",
      "gcc  -Wall -O3 -fPIC -DMATHLIB_STANDALONE   -std=gnu99 -I../include -DNDEBUG -c pnbeta.c -o pnbeta.o\n",
      "gcc  -Wall -O3 -fPIC -DMATHLIB_STANDALONE   -std=gnu99 -I../include -DNDEBUG -c pnbinom.c -o pnbinom.o\n",
      "gcc  -Wall -O3 -fPIC -DMATHLIB_STANDALONE   -std=gnu99 -I../include -DNDEBUG -c pnchisq.c -o pnchisq.o\n",
      "gcc  -Wall -O3 -fPIC -DMATHLIB_STANDALONE   -std=gnu99 -I../include -DNDEBUG -c pnf.c -o pnf.o\n",
      "gcc  -Wall -O3 -fPIC -DMATHLIB_STANDALONE   -std=gnu99 -I../include -DNDEBUG -c pnorm.c -o pnorm.o\n",
      "gcc  -Wall -O3 -fPIC -DMATHLIB_STANDALONE   -std=gnu99 -I../include -DNDEBUG -c pnt.c -o pnt.o\n",
      "gcc  -Wall -O3 -fPIC -DMATHLIB_STANDALONE   -std=gnu99 -I../include -DNDEBUG -c polygamma.c -o polygamma.o\n",
      "gcc  -Wall -O3 -fPIC -DMATHLIB_STANDALONE   -std=gnu99 -I../include -DNDEBUG -c ppois.c -o ppois.o\n",
      "gcc  -Wall -O3 -fPIC -DMATHLIB_STANDALONE   -std=gnu99 -I../include -DNDEBUG -c pt.c -o pt.o\n",
      "gcc  -Wall -O3 -fPIC -DMATHLIB_STANDALONE   -std=gnu99 -I../include -DNDEBUG -c ptukey.c -o ptukey.o\n",
      "gcc  -Wall -O3 -fPIC -DMATHLIB_STANDALONE   -std=gnu99 -I../include -DNDEBUG -c punif.c -o punif.o\n",
      "gcc  -Wall -O3 -fPIC -DMATHLIB_STANDALONE   -std=gnu99 -I../include -DNDEBUG -c pweibull.c -o pweibull.o\n",
      "gcc  -Wall -O3 -fPIC -DMATHLIB_STANDALONE   -std=gnu99 -I../include -DNDEBUG -c qbeta.c -o qbeta.o\n",
      "gcc  -Wall -O3 -fPIC -DMATHLIB_STANDALONE   -std=gnu99 -I../include -DNDEBUG -c qbinom.c -o qbinom.o\n",
      "gcc  -Wall -O3 -fPIC -DMATHLIB_STANDALONE   -std=gnu99 -I../include -DNDEBUG -c qcauchy.c -o qcauchy.o\n",
      "gcc  -Wall -O3 -fPIC -DMATHLIB_STANDALONE   -std=gnu99 -I../include -DNDEBUG -c qchisq.c -o qchisq.o\n",
      "gcc  -Wall -O3 -fPIC -DMATHLIB_STANDALONE   -std=gnu99 -I../include -DNDEBUG -c qexp.c -o qexp.o\n",
      "gcc  -Wall -O3 -fPIC -DMATHLIB_STANDALONE   -std=gnu99 -I../include -DNDEBUG -c qf.c -o qf.o\n",
      "gcc  -Wall -O3 -fPIC -DMATHLIB_STANDALONE   -std=gnu99 -I../include -DNDEBUG -c qgamma.c -o qgamma.o\n",
      "gcc  -Wall -O3 -fPIC -DMATHLIB_STANDALONE   -std=gnu99 -I../include -DNDEBUG -c qgeom.c -o qgeom.o\n",
      "gcc  -Wall -O3 -fPIC -DMATHLIB_STANDALONE   -std=gnu99 -I../include -DNDEBUG -c qhyper.c -o qhyper.o\n"
     ]
    },
    {
     "name": "stdout",
     "output_type": "stream",
     "text": [
      "gcc  -Wall -O3 -fPIC -DMATHLIB_STANDALONE   -std=gnu99 -I../include -DNDEBUG -c qlnorm.c -o qlnorm.o\n",
      "gcc  -Wall -O3 -fPIC -DMATHLIB_STANDALONE   -std=gnu99 -I../include -DNDEBUG -c qlogis.c -o qlogis.o\n",
      "gcc  -Wall -O3 -fPIC -DMATHLIB_STANDALONE   -std=gnu99 -I../include -DNDEBUG -c qnbeta.c -o qnbeta.o\n",
      "gcc  -Wall -O3 -fPIC -DMATHLIB_STANDALONE   -std=gnu99 -I../include -DNDEBUG -c qnbinom.c -o qnbinom.o\n",
      "gcc  -Wall -O3 -fPIC -DMATHLIB_STANDALONE   -std=gnu99 -I../include -DNDEBUG -c qnchisq.c -o qnchisq.o\n",
      "gcc  -Wall -O3 -fPIC -DMATHLIB_STANDALONE   -std=gnu99 -I../include -DNDEBUG -c qnf.c -o qnf.o\n",
      "gcc  -Wall -O3 -fPIC -DMATHLIB_STANDALONE   -std=gnu99 -I../include -DNDEBUG -c qnorm.c -o qnorm.o\n",
      "gcc  -Wall -O3 -fPIC -DMATHLIB_STANDALONE   -std=gnu99 -I../include -DNDEBUG -c qnt.c -o qnt.o\n",
      "gcc  -Wall -O3 -fPIC -DMATHLIB_STANDALONE   -std=gnu99 -I../include -DNDEBUG -c qpois.c -o qpois.o\n",
      "gcc  -Wall -O3 -fPIC -DMATHLIB_STANDALONE   -std=gnu99 -I../include -DNDEBUG -c qt.c -o qt.o\n",
      "gcc  -Wall -O3 -fPIC -DMATHLIB_STANDALONE   -std=gnu99 -I../include -DNDEBUG -c qtukey.c -o qtukey.o\n",
      "gcc  -Wall -O3 -fPIC -DMATHLIB_STANDALONE   -std=gnu99 -I../include -DNDEBUG -c qunif.c -o qunif.o\n",
      "gcc  -Wall -O3 -fPIC -DMATHLIB_STANDALONE   -std=gnu99 -I../include -DNDEBUG -c qweibull.c -o qweibull.o\n",
      "gcc  -Wall -O3 -fPIC -DMATHLIB_STANDALONE   -std=gnu99 -I../include -DNDEBUG -c rbeta.c -o rbeta.o\n",
      "gcc  -Wall -O3 -fPIC -DMATHLIB_STANDALONE   -std=gnu99 -I../include -DNDEBUG -c rbinom.c -o rbinom.o\n",
      "gcc  -Wall -O3 -fPIC -DMATHLIB_STANDALONE   -std=gnu99 -I../include -DNDEBUG -c rcauchy.c -o rcauchy.o\n",
      "gcc  -Wall -O3 -fPIC -DMATHLIB_STANDALONE   -std=gnu99 -I../include -DNDEBUG -c rchisq.c -o rchisq.o\n",
      "gcc  -Wall -O3 -fPIC -DMATHLIB_STANDALONE   -std=gnu99 -I../include -DNDEBUG -c rexp.c -o rexp.o\n",
      "gcc  -Wall -O3 -fPIC -DMATHLIB_STANDALONE   -std=gnu99 -I../include -DNDEBUG -c rf.c -o rf.o\n",
      "gcc  -Wall -O3 -fPIC -DMATHLIB_STANDALONE   -std=gnu99 -I../include -DNDEBUG -c rgamma.c -o rgamma.o\n",
      "gcc  -Wall -O3 -fPIC -DMATHLIB_STANDALONE   -std=gnu99 -I../include -DNDEBUG -c rgeom.c -o rgeom.o\n",
      "gcc  -Wall -O3 -fPIC -DMATHLIB_STANDALONE   -std=gnu99 -I../include -DNDEBUG -c rhyper.c -o rhyper.o\n",
      "gcc  -Wall -O3 -fPIC -DMATHLIB_STANDALONE   -std=gnu99 -I../include -DNDEBUG -c rlnorm.c -o rlnorm.o\n",
      "gcc  -Wall -O3 -fPIC -DMATHLIB_STANDALONE   -std=gnu99 -I../include -DNDEBUG -c rlogis.c -o rlogis.o\n",
      "gcc  -Wall -O3 -fPIC -DMATHLIB_STANDALONE   -std=gnu99 -I../include -DNDEBUG -c rmultinom.c -o rmultinom.o\n",
      "gcc  -Wall -O3 -fPIC -DMATHLIB_STANDALONE   -std=gnu99 -I../include -DNDEBUG -c rnbinom.c -o rnbinom.o\n",
      "gcc  -Wall -O3 -fPIC -DMATHLIB_STANDALONE   -std=gnu99 -I../include -DNDEBUG -c rnchisq.c -o rnchisq.o\n",
      "gcc  -Wall -O3 -fPIC -DMATHLIB_STANDALONE   -std=gnu99 -I../include -DNDEBUG -c rnorm.c -o rnorm.o\n",
      "gcc  -Wall -O3 -fPIC -DMATHLIB_STANDALONE   -std=gnu99 -I../include -DNDEBUG -c rpois.c -o rpois.o\n",
      "gcc  -Wall -O3 -fPIC -DMATHLIB_STANDALONE   -std=gnu99 -I../include -DNDEBUG -c rt.c -o rt.o\n",
      "gcc  -Wall -O3 -fPIC -DMATHLIB_STANDALONE   -std=gnu99 -I../include -DNDEBUG -c runif.c -o runif.o\n",
      "gcc  -Wall -O3 -fPIC -DMATHLIB_STANDALONE   -std=gnu99 -I../include -DNDEBUG -c rweibull.c -o rweibull.o\n",
      "gcc  -Wall -O3 -fPIC -DMATHLIB_STANDALONE   -std=gnu99 -I../include -DNDEBUG -c sign.c -o sign.o\n",
      "gcc  -Wall -O3 -fPIC -DMATHLIB_STANDALONE   -std=gnu99 -I../include -DNDEBUG -c signrank.c -o signrank.o\n",
      "gcc  -Wall -O3 -fPIC -DMATHLIB_STANDALONE   -std=gnu99 -I../include -DNDEBUG -c stirlerr.c -o stirlerr.o\n",
      "gcc  -Wall -O3 -fPIC -DMATHLIB_STANDALONE   -std=gnu99 -I../include -DNDEBUG -c toms708.c -o toms708.o\n",
      "gcc  -Wall -O3 -fPIC -DMATHLIB_STANDALONE   -std=gnu99 -I../include -DNDEBUG -c wilcox.c -o wilcox.o\n",
      "rm -f libRmath-julia.dylib\n",
      "gcc   -shared -o libRmath-julia.dylib bd0.o bessel_i.o bessel_j.o bessel_k.o bessel_y.o beta.o callback.o chebyshev.o choose.o cospi.o d1mach.o dbeta.o dbinom.o dcauchy.o dchisq.o dexp.o df.o dgamma.o dgeom.o dhyper.o dlnorm.o dlogis.o dnbeta.o dnbinom.o dnchisq.o dnf.o dnorm.o dnt.o dpois.o dt.o dunif.o dweibull.o expm1.o fmax2.o fmin2.o fprec.o fround.o fsign.o ftrunc.o gamma.o gamma_cody.o gammalims.o i1mach.o imax2.o imin2.o lbeta.o lgamma.o lgammacor.o log1p.o mlutils.o pbeta.o pbinom.o pcauchy.o pchisq.o pexp.o pf.o pgamma.o pgeom.o phyper.o plnorm.o plogis.o pnbeta.o pnbinom.o pnchisq.o pnf.o pnorm.o pnt.o polygamma.o ppois.o pt.o ptukey.o punif.o pweibull.o qbeta.o qbinom.o qcauchy.o qchisq.o qexp.o qf.o qgamma.o qgeom.o qhyper.o qlnorm.o qlogis.o qnbeta.o qnbinom.o qnchisq.o qnf.o qnorm.o qnt.o qpois.o qt.o qtukey.o qunif.o qweibull.o rbeta.o rbinom.o rcauchy.o rchisq.o rexp.o rf.o rgamma.o rgeom.o rhyper.o rlnorm.o rlogis.o rmultinom.o rnbinom.o rnchisq.o rnorm.o rpois.o rt.o runif.o rweibull.o sign.o signrank.o stirlerr.o toms708.o wilcox.o\n"
     ]
    },
    {
     "name": "stderr",
     "output_type": "stream",
     "text": [
      "\u001b[1m\u001b[36mInfo: \u001b[39m\u001b[22m\u001b[36mChanging directory to /Users/alage/.julia/v0.6/Rmath/deps/src/Rmath-julia-0.2.0\n",
      "\u001b[39m\u001b[1m\u001b[36mINFO: \u001b[39m\u001b[22m\u001b[36mPackage database updated\n",
      "\u001b[39m\u001b[1m\u001b[36mINFO: \u001b[39m\u001b[22m\u001b[36mMETADATA is out-of-date — you may not have the latest version of Distributions\n",
      "\u001b[39m\u001b[1m\u001b[36mINFO: \u001b[39m\u001b[22m\u001b[36mUse `Pkg.update()` to get the latest versions of your packages\n",
      "\u001b[39m\u001b[1m\u001b[36mINFO: \u001b[39m\u001b[22m\u001b[36mPrecompiling module Distributions.\n",
      "\u001b[39m"
     ]
    }
   ],
   "source": [
    "Pkg.add(\"Distributions\")\n",
    "using Distributions"
   ]
  },
  {
   "cell_type": "code",
   "execution_count": 15,
   "metadata": {},
   "outputs": [
    {
     "data": {
      "text/plain": [
       "2-element Array{Float64,1}:\n",
       " 0.0192053\n",
       " 1.67634  "
      ]
     },
     "execution_count": 15,
     "metadata": {},
     "output_type": "execute_result"
    }
   ],
   "source": [
    "d = Distributions.Normal() # creating a standard-normal distribution d \n",
    "x = rand(d, 100) # getting  samples using rand\n",
    "quantile(x, [0.5, 0.95]) # getting the median (50th percentile) and the 95th percentile"
   ]
  },
  {
   "cell_type": "markdown",
   "metadata": {},
   "source": [
    "----\n",
    "\n",
    "# [Types](https://docs.julialang.org/en/latest/manual/integers-and-floating-point-numbers/): Integers and Floating-Point Numbers\n",
    "\n",
    "## Context\n",
    "\n",
    "* **Static type systems**\n",
    "    * every program expression must have a type computable before the execution of the program (compilation time)\n",
    "* **Dynamic type systems**\n",
    "    * nothing is known about types until program execution (run time)\n",
    "* **Julia's type system is dynamic but allows to indicate that certain values are of specific types**\n",
    "* Julia default behavior is **dynamic typing**: when types are omitted Julis allows values to be of any type"
   ]
  },
  {
   "cell_type": "code",
   "execution_count": 4,
   "metadata": {},
   "outputs": [
    {
     "data": {
      "text/plain": [
       "Int64"
      ]
     },
     "execution_count": 4,
     "metadata": {},
     "output_type": "execute_result"
    }
   ],
   "source": [
    "a = 1\n",
    "typeof(a)"
   ]
  },
  {
   "cell_type": "code",
   "execution_count": 21,
   "metadata": {},
   "outputs": [
    {
     "data": {
      "text/plain": [
       "Float64"
      ]
     },
     "execution_count": 21,
     "metadata": {},
     "output_type": "execute_result"
    }
   ],
   "source": [
    "a = 1.0\n",
    "typeof(a)"
   ]
  },
  {
   "cell_type": "code",
   "execution_count": 5,
   "metadata": {},
   "outputs": [
    {
     "data": {
      "text/plain": [
       "4.4"
      ]
     },
     "execution_count": 5,
     "metadata": {},
     "output_type": "execute_result"
    }
   ],
   "source": [
    "b = 2\n",
    "a = 2.4\n",
    "a+b"
   ]
  },
  {
   "cell_type": "markdown",
   "metadata": {},
   "source": [
    "* If types are specified, both the **performance and robustness are increased**\n",
    "    * Programs become clearer, simpler, faster and more robust with declared types\n",
    "    * Type assertions help to confirm that your program works the way you expect"
   ]
  },
  {
   "cell_type": "markdown",
   "metadata": {},
   "source": [
    "### Properties\n",
    "\n",
    "* All concrete types are final and may only have abstract types as their supertypes\n",
    "    * It turns out that being able to inherit behavior is much more important than being able to inherit structure\n",
    "* All values in Julia are true objects having a type that belongs to a single, fully connected type graph\n",
    "* Only values, not variables, have types\n",
    "    * Variables are simply names bound to values\n",
    "* Both abstract and concrete types can be parameterized by other types\n",
    "\n",
    "----\n",
    "\n",
    "# Programming: control flow and functions\n",
    "\n",
    "In a nutshell, programming is about orchestrating the control flow."
   ]
  },
  {
   "cell_type": "code",
   "execution_count": 7,
   "metadata": {},
   "outputs": [
    {
     "name": "stdout",
     "output_type": "stream",
     "text": [
      "oi\n",
      "oi\n",
      "oi\n",
      "oi\n",
      "oi\n",
      "oi\n",
      "6\n",
      "oi\n",
      "7\n",
      "oi\n",
      "8\n",
      "oi\n",
      "9\n"
     ]
    }
   ],
   "source": [
    "showme(x) = println(x)\n",
    "\n",
    "for i=1:9\n",
    "    println(\"oi\")\n",
    "    if i > 5\n",
    "        showme(i)\n",
    "    end \n",
    "end"
   ]
  },
  {
   "cell_type": "markdown",
   "metadata": {},
   "source": [
    "# Control flow\n",
    "\n",
    "\n",
    "<a data-flickr-embed=\"true\" data-footer=\"true\"  href=\"https://www.flickr.com/photos/methodshop/4865516413\" title=\"Pac-Man [game]\"><img src=\"https://farm5.staticflickr.com/4139/4865516413_1df74bbcc2.jpg\" width=\"411\" height=\"467\" alt=\"Pac-Man [game]\"></a><script async src=\"//embedr.flickr.com/assets/client-code.js\" charset=\"utf-8\"></script>\n",
    "<center>Credits: _methodshop .com Flickr user_</center>\n",
    "\n",
    "## Conditionals\n",
    "\n",
    "```julia\n",
    "if LOGICAL_CONDITION\n",
    "    DO_SOMETHING\n",
    "end\n",
    "```"
   ]
  },
  {
   "cell_type": "code",
   "execution_count": 8,
   "metadata": {},
   "outputs": [
    {
     "name": "stdout",
     "output_type": "stream",
     "text": [
      "1\n"
     ]
    }
   ],
   "source": [
    "i = 1\n",
    "\n",
    "if i < 5\n",
    "    showme(i)\n",
    "else\n",
    "    println(i,\" is not greater than 5\")\n",
    "end "
   ]
  },
  {
   "cell_type": "code",
   "execution_count": 10,
   "metadata": {},
   "outputs": [
    {
     "name": "stdout",
     "output_type": "stream",
     "text": [
      "1 is less than 3\n"
     ]
    }
   ],
   "source": [
    "if i > 5\n",
    "    showme(i)\n",
    "elseif i < 3\n",
    "    println(i,\" is less than 3\")\n",
    "else\n",
    "    println(\"$(i) is between 3 and 5\")\n",
    "end "
   ]
  },
  {
   "cell_type": "markdown",
   "metadata": {},
   "source": [
    "## [Short-circuit evaluation](https://docs.julialang.org/en/latest/manual/control-flow/#Short-Circuit-Evaluation-1)\n",
    "\n",
    "In the expression a && b, the subexpression b is only evaluated if a evaluates to true.\n",
    "In the expression a || b, the subexpression b is only evaluated if a evaluates to false."
   ]
  },
  {
   "cell_type": "code",
   "execution_count": 85,
   "metadata": {},
   "outputs": [
    {
     "name": "stdout",
     "output_type": "stream",
     "text": [
      "1 is lesser than 2\n"
     ]
    }
   ],
   "source": [
    "1 < 2 && println(\"1 is lesser than 2\")"
   ]
  },
  {
   "cell_type": "code",
   "execution_count": 86,
   "metadata": {},
   "outputs": [
    {
     "name": "stdout",
     "output_type": "stream",
     "text": [
      "1 is NOT lesser than 2\n"
     ]
    }
   ],
   "source": [
    "1 > 2 || println(\"1 is NOT lesser than 2\")"
   ]
  },
  {
   "cell_type": "markdown",
   "metadata": {},
   "source": [
    "## [Compound expressions](https://docs.julialang.org/en/latest/manual/control-flow/#man-compound-expressions-1)\n",
    "\n",
    "_A single expression which evaluates several subexpressions in order, returning the value of the last subexpression as its value._"
   ]
  },
  {
   "cell_type": "code",
   "execution_count": 29,
   "metadata": {},
   "outputs": [
    {
     "data": {
      "text/plain": [
       "3"
      ]
     },
     "execution_count": 29,
     "metadata": {},
     "output_type": "execute_result"
    }
   ],
   "source": [
    "z = begin\n",
    "    x = 1\n",
    "    y = 2\n",
    "    x + y\n",
    "end\n",
    "z"
   ]
  },
  {
   "cell_type": "markdown",
   "metadata": {},
   "source": [
    "## [Loops](https://docs.julialang.org/en/latest/manual/control-flow/#man-loops-1)\n",
    "\n",
    "### ```for```\n",
    "\n",
    "Iterates over a [Range](TODO).\n",
    "\n",
    "```julia\n",
    "for ITERATOR in RANGE\n",
    "    DO_SOMETHING\n",
    "end\n",
    "```"
   ]
  },
  {
   "cell_type": "code",
   "execution_count": 2,
   "metadata": {},
   "outputs": [
    {
     "name": "stdout",
     "output_type": "stream",
     "text": [
      "i = 1\n",
      "i = 2\n",
      "i = 3\n"
     ]
    }
   ],
   "source": [
    "for i in [1,2,3]\n",
    "    @show i\n",
    "end"
   ]
  },
  {
   "cell_type": "code",
   "execution_count": 88,
   "metadata": {},
   "outputs": [
    {
     "name": "stdout",
     "output_type": "stream",
     "text": [
      "i = 1\n",
      "i = 2\n",
      "i = 3\n"
     ]
    }
   ],
   "source": [
    "for i=1:3\n",
    "    @show i\n",
    "end"
   ]
  },
  {
   "cell_type": "markdown",
   "metadata": {},
   "source": [
    "### ```while```\n",
    "\n",
    "Iterates over a condition expression.\n",
    "\n",
    "```Julia\n",
    "while LOGICAL_STOP_CONDITION\n",
    "    DO_SOMETHING\n",
    "end\n",
    "```"
   ]
  },
  {
   "cell_type": "code",
   "execution_count": 1,
   "metadata": {},
   "outputs": [
    {
     "name": "stdout",
     "output_type": "stream",
     "text": [
      "i = 1\n",
      "i = 2\n",
      "i = 3\n"
     ]
    }
   ],
   "source": [
    "i=0\n",
    "\n",
    "while i < 3\n",
    "    i = i + 1\n",
    "    @show i\n",
    "end\n"
   ]
  },
  {
   "cell_type": "code",
   "execution_count": 2,
   "metadata": {},
   "outputs": [
    {
     "name": "stdout",
     "output_type": "stream",
     "text": [
      "I say goodbye and I say hello\n"
     ]
    }
   ],
   "source": [
    "logical_condition = false\n",
    "\n",
    "while logical_condition == false\n",
    "    println(\"I say goodbye and I say hello\")\n",
    "    logical_condition = true\n",
    "end"
   ]
  },
  {
   "cell_type": "code",
   "execution_count": 3,
   "metadata": {},
   "outputs": [
    {
     "ename": "LoadError",
     "evalue": "\u001b[91mUndefVarError: TODO not defined\u001b[39m",
     "output_type": "error",
     "traceback": [
      "\u001b[91mUndefVarError: TODO not defined\u001b[39m",
      ""
     ]
    }
   ],
   "source": [
    "logical_condition_2 = TODO "
   ]
  },
  {
   "cell_type": "markdown",
   "metadata": {},
   "source": [
    "### Basic logical operators\n",
    "\n",
    "* OR `||`\n",
    "* AND `&&`\n",
    "* NOT `!`"
   ]
  },
  {
   "cell_type": "markdown",
   "metadata": {},
   "source": [
    "# [Functions](https://docs.julialang.org/en/latest/manual/functions/)\n",
    "\n",
    "* Examples on defining functions:"
   ]
  },
  {
   "cell_type": "code",
   "execution_count": 3,
   "metadata": {},
   "outputs": [
    {
     "data": {
      "text/plain": [
       "11"
      ]
     },
     "execution_count": 3,
     "metadata": {},
     "output_type": "execute_result"
    }
   ],
   "source": [
    "f(x) = 2x + 1\n",
    "f(5)"
   ]
  },
  {
   "cell_type": "code",
   "execution_count": 7,
   "metadata": {},
   "outputs": [
    {
     "name": "stdout",
     "output_type": "stream",
     "text": [
      "45\n",
      "11\n"
     ]
    }
   ],
   "source": [
    "function f(x,y)\n",
    "    2x + 5y\n",
    "end"
   ]
  },
  {
   "cell_type": "code",
   "execution_count": 6,
   "metadata": {},
   "outputs": [
    {
     "data": {
      "text/plain": [
       "f (generic function with 2 methods)"
      ]
     },
     "execution_count": 6,
     "metadata": {},
     "output_type": "execute_result"
    }
   ],
   "source": [
    "function f(x,y)\n",
    "    return 2x + 1\n",
    "end"
   ]
  },
  {
   "cell_type": "code",
   "execution_count": 104,
   "metadata": {},
   "outputs": [
    {
     "data": {
      "text/plain": [
       "f (generic function with 2 methods)"
      ]
     },
     "execution_count": 104,
     "metadata": {},
     "output_type": "execute_result"
    }
   ],
   "source": [
    "function f(x,y)\n",
    "    a = 1\n",
    "    b = 2x\n",
    "    c = a + b\n",
    "    return c\n",
    "end"
   ]
  },
  {
   "cell_type": "markdown",
   "metadata": {},
   "source": [
    "* You can easily see which **methods** exist for a function by entering the function object itself in an interactive session:"
   ]
  },
  {
   "cell_type": "code",
   "execution_count": 7,
   "metadata": {},
   "outputs": [
    {
     "data": {
      "text/plain": [
       "f (generic function with 2 methods)"
      ]
     },
     "execution_count": 7,
     "metadata": {},
     "output_type": "execute_result"
    }
   ],
   "source": [
    "f"
   ]
  },
  {
   "cell_type": "markdown",
   "metadata": {},
   "source": [
    "* To find out what the **signatures of those methods** are, use the methods() function:"
   ]
  },
  {
   "cell_type": "code",
   "execution_count": 8,
   "metadata": {},
   "outputs": [
    {
     "data": {
      "text/html": [
       "2 methods for generic function <b>f</b>:<ul><li> f(x) at In[3]:1</li> <li> f(x, y) at In[6]:2</li> </ul>"
      ],
      "text/plain": [
       "# 2 methods for generic function \"f\":\n",
       "f(x) in Main at In[3]:1\n",
       "f(x, y) in Main at In[6]:2"
      ]
     },
     "execution_count": 8,
     "metadata": {},
     "output_type": "execute_result"
    }
   ],
   "source": [
    "methods(f)"
   ]
  },
  {
   "cell_type": "markdown",
   "metadata": {},
   "source": [
    "## [Anonymous functions](https://docs.julialang.org/en/latest/manual/functions/#man-anonymous-functions-1)\n",
    "\n",
    "* Anonymous functions **don't have a name**.\n",
    "* Useful for passing as parameters.\n",
    "* Alias: _lambda_\n",
    "\n",
    "Next, examples on implementing and calling the function $x^2 + 2x - 1$"
   ]
  },
  {
   "cell_type": "code",
   "execution_count": 11,
   "metadata": {},
   "outputs": [
    {
     "data": {
      "text/plain": [
       "(::#1) (generic function with 1 method)"
      ]
     },
     "execution_count": 11,
     "metadata": {},
     "output_type": "execute_result"
    }
   ],
   "source": [
    "x -> x^2 + 2x - 1"
   ]
  },
  {
   "cell_type": "markdown",
   "metadata": {},
   "source": [
    "**Example**: mapping the vector $v = [1,2,3]$ to a customized function (`map` will be addressed later in this tutorial):"
   ]
  },
  {
   "cell_type": "code",
   "execution_count": 9,
   "metadata": {},
   "outputs": [
    {
     "data": {
      "text/plain": [
       "3-element Array{Int64,1}:\n",
       "  2\n",
       "  7\n",
       " 14"
      ]
     },
     "execution_count": 9,
     "metadata": {},
     "output_type": "execute_result"
    }
   ],
   "source": [
    "map(x -> x^2 + 2x - 1, [1,2,3])"
   ]
  },
  {
   "cell_type": "code",
   "execution_count": 10,
   "metadata": {},
   "outputs": [
    {
     "data": {
      "text/plain": [
       "3-element Array{Int64,1}:\n",
       " 3\n",
       " 5\n",
       " 7"
      ]
     },
     "execution_count": 10,
     "metadata": {},
     "output_type": "execute_result"
    }
   ],
   "source": [
    "map(f,[1,2,3])"
   ]
  },
  {
   "cell_type": "markdown",
   "metadata": {},
   "source": [
    "# [Arrays](https://docs.julialang.org/en/latest/base/arrays/)\n",
    "\n",
    "* [Basic functions](https://docs.julialang.org/en/latest/base/arrays/)\n",
    "* Arrays (vectors, matrices, etc.) in Julia have a dual function:\n",
    "    * to be used like data structs, e.g., lists\n",
    "    * to behave like mathematical vectors and matrices\n",
    "\n",
    "## Creating arrays\n",
    "\n",
    "$v = [1,2,3]$"
   ]
  },
  {
   "cell_type": "code",
   "execution_count": 1,
   "metadata": {},
   "outputs": [
    {
     "data": {
      "text/plain": [
       "1×3 Array{Int64,2}:\n",
       " 1  2  3"
      ]
     },
     "execution_count": 1,
     "metadata": {},
     "output_type": "execute_result"
    }
   ],
   "source": [
    "v = [1 2 3]"
   ]
  },
  {
   "cell_type": "code",
   "execution_count": 2,
   "metadata": {},
   "outputs": [
    {
     "data": {
      "text/plain": [
       "3-element Array{Int64,1}:\n",
       " 1\n",
       " 2\n",
       " 3"
      ]
     },
     "execution_count": 2,
     "metadata": {},
     "output_type": "execute_result"
    }
   ],
   "source": [
    "v = [1,2,3]"
   ]
  },
  {
   "cell_type": "code",
   "execution_count": 16,
   "metadata": {},
   "outputs": [
    {
     "data": {
      "text/plain": [
       "5-element Array{Int64,1}:\n",
       "  6\n",
       "  7\n",
       "  8\n",
       "  9\n",
       " 10"
      ]
     },
     "execution_count": 16,
     "metadata": {},
     "output_type": "execute_result"
    }
   ],
   "source": [
    "v = [6, 7] \n",
    "w = [8, 9]\n",
    "z = [v ; w ; 10]"
   ]
  },
  {
   "cell_type": "code",
   "execution_count": 21,
   "metadata": {},
   "outputs": [
    {
     "name": "stdout",
     "output_type": "stream",
     "text": [
      "v = [1, 2, 3, 4, 5]\n"
     ]
    },
    {
     "data": {
      "text/plain": [
       "5-element Array{Int64,1}:\n",
       " 1\n",
       " 2\n",
       " 3\n",
       " 4\n",
       " 5"
      ]
     },
     "execution_count": 21,
     "metadata": {},
     "output_type": "execute_result"
    }
   ],
   "source": [
    "v = collect(1:5)\n",
    "@show v"
   ]
  },
  {
   "cell_type": "markdown",
   "metadata": {},
   "source": [
    "## [Coprehensions](https://docs.julialang.org/en/latest/manual/arrays/#Comprehensions-1)\n",
    "* Comprehensions provide a general and powerful way to construct arrays\n",
    "* Comprehension syntax is similar to set construction notation in mathematics:\n",
    "* Creating arrays with comprehensions:"
   ]
  },
  {
   "cell_type": "code",
   "execution_count": 74,
   "metadata": {},
   "outputs": [
    {
     "data": {
      "text/plain": [
       "5-element Array{Int64,1}:\n",
       " 1\n",
       " 2\n",
       " 3\n",
       " 4\n",
       " 5"
      ]
     },
     "execution_count": 74,
     "metadata": {},
     "output_type": "execute_result"
    }
   ],
   "source": [
    "S = [ x for x = 1:5 ]"
   ]
  },
  {
   "cell_type": "code",
   "execution_count": 75,
   "metadata": {},
   "outputs": [
    {
     "data": {
      "text/plain": [
       "10-element Array{Int64,1}:\n",
       "   2\n",
       "   6\n",
       "  12\n",
       "  20\n",
       "  30\n",
       "  42\n",
       "  56\n",
       "  72\n",
       "  90\n",
       " 110"
      ]
     },
     "execution_count": 75,
     "metadata": {},
     "output_type": "execute_result"
    }
   ],
   "source": [
    "U = [ x^2 + x for x = 1:10 ]"
   ]
  },
  {
   "cell_type": "code",
   "execution_count": 4,
   "metadata": {},
   "outputs": [
    {
     "data": {
      "text/plain": [
       "3-element Array{Int64,1}:\n",
       " 3\n",
       " 5\n",
       " 7"
      ]
     },
     "execution_count": 4,
     "metadata": {},
     "output_type": "execute_result"
    }
   ],
   "source": [
    "W = [ f(x) for x in v ]"
   ]
  },
  {
   "cell_type": "code",
   "execution_count": 5,
   "metadata": {},
   "outputs": [
    {
     "data": {
      "text/plain": [
       "3-element Array{Int64,1}:\n",
       " 1\n",
       " 2\n",
       " 3"
      ]
     },
     "execution_count": 5,
     "metadata": {},
     "output_type": "execute_result"
    }
   ],
   "source": [
    "v"
   ]
  },
  {
   "cell_type": "code",
   "execution_count": 80,
   "metadata": {},
   "outputs": [
    {
     "data": {
      "text/plain": [
       "2×3×2 Array{String,3}:\n",
       "[:, :, 1] =\n",
       " \"Hi Im element # 1\"  \"Hi Im element # 3\"  \"Hi Im element # 5\"\n",
       " \"Hi Im element # 2\"  \"Hi Im element # 4\"  \"Hi Im element # 6\"\n",
       "\n",
       "[:, :, 2] =\n",
       " \"Hi Im element # 7\"  \"Hi Im element # 9\"   \"Hi Im element # 11\"\n",
       " \"Hi Im element # 8\"  \"Hi Im element # 10\"  \"Hi Im element # 12\""
      ]
     },
     "execution_count": 80,
     "metadata": {},
     "output_type": "execute_result"
    }
   ],
   "source": [
    "m4 = [i+j+k for i=1:2, j=1:3, k=1:2] # creates a 2x3x2 array of Int64\n",
    "m5 = [\"Hi Im # $(i+2*(j-1 + 3*(k-1)))\" for i=1:2, j=1:3, k=1:2] # expressions are very flexible\n",
    "# you can specify the type of the array by just \n",
    "# placing it in front of the expression\n",
    "m5 = String[\"Hi Im element # $(i+2*(j-1 + 3*(k-1)))\" for i=1:2, j=1:3, k=1:2]"
   ]
  },
  {
   "cell_type": "markdown",
   "metadata": {},
   "source": [
    "## [Multidimensional Arrays](https://docs.julialang.org/en/latest/manual/arrays/#man-multi-dim-arrays-1)\n",
    "\n",
    "\n",
    "$\\begin{bmatrix} \n",
    "1 & 2 \\\\\n",
    "3 & 4 \n",
    "\\end{bmatrix}$\n",
    "\n",
    "\n",
    "\n",
    "\n"
   ]
  },
  {
   "cell_type": "code",
   "execution_count": 8,
   "metadata": {},
   "outputs": [
    {
     "data": {
      "text/plain": [
       "2×2 Array{Float64,2}:\n",
       " 0.732195  0.883093   \n",
       " 0.849795  0.000764167"
      ]
     },
     "execution_count": 8,
     "metadata": {},
     "output_type": "execute_result"
    }
   ],
   "source": [
    "m = rand(2,2)"
   ]
  },
  {
   "cell_type": "code",
   "execution_count": 61,
   "metadata": {},
   "outputs": [
    {
     "data": {
      "text/plain": [
       "2×2 Array{Int64,2}:\n",
       " 1  3\n",
       " 2  4"
      ]
     },
     "execution_count": 61,
     "metadata": {},
     "output_type": "execute_result"
    }
   ],
   "source": [
    "m = hcat([1,2],[3,4])"
   ]
  },
  {
   "cell_type": "code",
   "execution_count": 81,
   "metadata": {},
   "outputs": [
    {
     "data": {
      "text/plain": [
       "2×2 Array{Int64,2}:\n",
       " 1  2\n",
       " 3  4"
      ]
     },
     "execution_count": 81,
     "metadata": {},
     "output_type": "execute_result"
    }
   ],
   "source": [
    "m = [1 2; 3 4]"
   ]
  },
  {
   "cell_type": "markdown",
   "metadata": {},
   "source": [
    "## Acessing arrays\n",
    "\n",
    "### Read"
   ]
  },
  {
   "cell_type": "code",
   "execution_count": 9,
   "metadata": {},
   "outputs": [
    {
     "data": {
      "text/plain": [
       "0.7321950801425681"
      ]
     },
     "execution_count": 9,
     "metadata": {},
     "output_type": "execute_result"
    }
   ],
   "source": [
    "m[1,1]"
   ]
  },
  {
   "cell_type": "code",
   "execution_count": 11,
   "metadata": {},
   "outputs": [
    {
     "name": "stdout",
     "output_type": "stream",
     "text": [
      "The value is 0.7321950801425681\n"
     ]
    }
   ],
   "source": [
    "println(\"The value is $(m[1,1])\")"
   ]
  },
  {
   "cell_type": "markdown",
   "metadata": {},
   "source": [
    "### Write"
   ]
  },
  {
   "cell_type": "code",
   "execution_count": 12,
   "metadata": {},
   "outputs": [
    {
     "data": {
      "text/plain": [
       "0"
      ]
     },
     "execution_count": 12,
     "metadata": {},
     "output_type": "execute_result"
    }
   ],
   "source": [
    "m[1,1] = 0"
   ]
  },
  {
   "cell_type": "code",
   "execution_count": 13,
   "metadata": {},
   "outputs": [
    {
     "data": {
      "text/plain": [
       "2×2 Array{Float64,2}:\n",
       " 0.0       0.883093   \n",
       " 0.849795  0.000764167"
      ]
     },
     "execution_count": 13,
     "metadata": {},
     "output_type": "execute_result"
    }
   ],
   "source": [
    "m"
   ]
  },
  {
   "cell_type": "markdown",
   "metadata": {},
   "source": [
    "Remark: For further examples, see [Julia By Example](http://samuelcolvin.github.io/JuliaByExample/)\n",
    "\n",
    "-----\n",
    "\n",
    "# <span style=\"color:green\">Exercise</span>\n",
    "\n",
    "\n",
    "<span style=\"color:green\">Create a 3x3 matrix with random numbers and print only the numbers which are greater than 0.5.</span>"
   ]
  },
  {
   "cell_type": "markdown",
   "metadata": {},
   "source": [
    "# Constructing arrays with Map and Filter \n",
    "   \n",
    "        \n",
    "## [Map](https://docs.julialang.org/en/latest/base/collections/#Base.map)\n",
    "\n",
    "\n",
    "* [**`map`**](https://docs.julialang.org/en/latest/base/collections/#Base.map) **applies functions to all elements** of the collection\n",
    "    * Returns a **new collection**\n",
    "\n",
    "    > [a,b,c] -- maps f -->  [d,e,f]\n",
    "\n",
    "    * [**`map!`**](https://docs.julialang.org/en/latest/base/collections/#Base.map!) is the in-place version of map\n",
    "\n",
    "* For example, let's **define a function and then map** it to a collection:\n",
    "    * All members of the collection `[1,3,9]` will be raised to 2 power and added by 1"
   ]
  },
  {
   "cell_type": "code",
   "execution_count": 14,
   "metadata": {},
   "outputs": [
    {
     "data": {
      "text/plain": [
       "sq_plus_one (generic function with 1 method)"
      ]
     },
     "execution_count": 14,
     "metadata": {},
     "output_type": "execute_result"
    }
   ],
   "source": [
    "function sq_plus_one(a)\n",
    "    a^2 + 1\n",
    "end "
   ]
  },
  {
   "cell_type": "code",
   "execution_count": 17,
   "metadata": {},
   "outputs": [
    {
     "data": {
      "text/plain": [
       "5-element Array{Int64,1}:\n",
       "  6\n",
       "  7\n",
       "  8\n",
       "  9\n",
       " 10"
      ]
     },
     "execution_count": 17,
     "metadata": {},
     "output_type": "execute_result"
    }
   ],
   "source": [
    "z"
   ]
  },
  {
   "cell_type": "code",
   "execution_count": 18,
   "metadata": {},
   "outputs": [
    {
     "data": {
      "text/plain": [
       "5-element Array{Int64,1}:\n",
       "  37\n",
       "  50\n",
       "  65\n",
       "  82\n",
       " 101"
      ]
     },
     "execution_count": 18,
     "metadata": {},
     "output_type": "execute_result"
    }
   ],
   "source": [
    "map(sq_plus_one, z)"
   ]
  },
  {
   "cell_type": "markdown",
   "metadata": {},
   "source": [
    "* We can also **map anonymous functions**\n",
    "    * In the following example, **`a` is the argument**:"
   ]
  },
  {
   "cell_type": "code",
   "execution_count": 96,
   "metadata": {},
   "outputs": [
    {
     "data": {
      "text/plain": [
       "5-element Array{Int64,1}:\n",
       "  37\n",
       "  50\n",
       "  65\n",
       "  82\n",
       " 101"
      ]
     },
     "execution_count": 96,
     "metadata": {},
     "output_type": "execute_result"
    }
   ],
   "source": [
    "map(z) do a\n",
    "        sq = a^2\n",
    "        return sq + 1\n",
    "       end"
   ]
  },
  {
   "cell_type": "markdown",
   "metadata": {},
   "source": [
    "* Another exemple with anonymous function\n",
    "    * All members of the collection `[1,5,10]` will be multiplied by `10`\n",
    "    * Now, **`x` is the argument**:"
   ]
  },
  {
   "cell_type": "code",
   "execution_count": 98,
   "metadata": {},
   "outputs": [
    {
     "data": {
      "text/plain": [
       "3-element Array{Int64,1}:\n",
       "  10\n",
       "  50\n",
       " 100"
      ]
     },
     "execution_count": 98,
     "metadata": {},
     "output_type": "execute_result"
    }
   ],
   "source": [
    "map(x -> x * 10, [1,5,10])"
   ]
  },
  {
   "cell_type": "markdown",
   "metadata": {},
   "source": [
    "* Finally, we can also map **multiple arguments**\n",
    "    * The following example multiplies the collection `[1,2,3]` by the collection `[4,5,6]`;"
   ]
  },
  {
   "cell_type": "code",
   "execution_count": 55,
   "metadata": {},
   "outputs": [
    {
     "data": {
      "text/plain": [
       "3-element Array{Int64,1}:\n",
       "  4\n",
       " 10\n",
       " 18"
      ]
     },
     "execution_count": 55,
     "metadata": {},
     "output_type": "execute_result"
    }
   ],
   "source": [
    "map(*, 1:3, 4:6)"
   ]
  },
  {
   "cell_type": "markdown",
   "metadata": {},
   "source": [
    "# <span style=\"color:green\">Exercise</span>\n",
    "\n",
    "\n",
    "<span style=\"color:green\">Map to the 3 power a collection defined by the `1:4` range.</span>"
   ]
  },
  {
   "cell_type": "markdown",
   "metadata": {},
   "source": [
    "     \n",
    "## [Filter](https://docs.julialang.org/en/latest/base/collections/#Base.filter)\n",
    "   \n",
    "* [**`filter`**](https://docs.julialang.org/en/latest/base/collections/#Base.filter) **applies Boolean functions to all elements** of the collection\n",
    "    * Returns a **new collection**\n",
    "\n",
    "    > [a,b,c] -- filters using f -->  [a,c]\n",
    "\n",
    "    * [**`filter!`**](https://docs.julialang.org/en/latest/base/collections/#Base.filter!) is the in-place version of filter\n",
    "\n",
    "* For example, let's filter all odd numbers with [`isodd(...)`](https://docs.julialang.org/en/latest/base/numbers/#Base.isodd) from the collection `[1,2,3,4,5]`:"
   ]
  },
  {
   "cell_type": "code",
   "execution_count": 56,
   "metadata": {},
   "outputs": [
    {
     "data": {
      "text/plain": [
       "3-element Array{Int64,1}:\n",
       " 1\n",
       " 3\n",
       " 5"
      ]
     },
     "execution_count": 56,
     "metadata": {},
     "output_type": "execute_result"
    }
   ],
   "source": [
    "filter(isodd, 1:5)"
   ]
  },
  {
   "cell_type": "markdown",
   "metadata": {},
   "source": [
    "     \n",
    "## [Reduce](https://docs.julialang.org/en/latest/base/collections/#Base.reduce-Tuple{Any,Any})\n",
    "\n",
    "\n",
    "* [**`reduce`**](https://docs.julialang.org/en/latest/base/collections/#Base.reduce-Tuple{Any,Any}) **reduces** a collection **with the given binary operator**\n",
    "    * Returns a **single value**\n",
    "\n",
    "    > [a,b,c] -- reduce -->  d\n",
    "\n",
    "* For example, let's reduce all the elements of the following collection by summing them:\n",
    "\n"
   ]
  },
  {
   "cell_type": "code",
   "execution_count": 26,
   "metadata": {},
   "outputs": [
    {
     "data": {
      "text/plain": [
       "55"
      ]
     },
     "execution_count": 26,
     "metadata": {},
     "output_type": "execute_result"
    }
   ],
   "source": [
    "reduce(+, 1:10)"
   ]
  },
  {
   "cell_type": "markdown",
   "metadata": {},
   "source": [
    "* Now let's create a function that sum squared roots and then reduce the same collection:\n",
    "* Remark that the function **MUST return a binary operator**:"
   ]
  },
  {
   "cell_type": "code",
   "execution_count": 221,
   "metadata": {},
   "outputs": [
    {
     "data": {
      "text/plain": [
       "1861614489361800997"
      ]
     },
     "execution_count": 221,
     "metadata": {},
     "output_type": "execute_result"
    }
   ],
   "source": [
    "function sum_of_squares(x,y)\n",
    "    return x^2 + y^2\n",
    "end\n",
    "reduce(sum_of_squares, [1:10])"
   ]
  },
  {
   "cell_type": "markdown",
   "metadata": {},
   "source": [
    "## [MapReduce](https://docs.julialang.org/en/latest/base/collections/#Base.mapreduce-Tuple{Any,Any,Any})\n",
    "\n",
    "* [**`mapreduce(f, op, itr)`**](https://docs.julialang.org/en/latest/base/collections/#Base.mapreduce-Tuple{Any,Any,Any}) is functionally equivalent to: **`reduce(op, map(f, itr))`**\n",
    "    * op = reduce binary operator\n",
    "    * f = map function\n",
    "    * itr = collection\n",
    "    * **Faster** than the code above since **no intermediate collection needs to be created**\n",
    "    \n",
    "* For example, let's:\n",
    "    * map the `sqrt` function to the collection `[1,4,9]`\n",
    "    * reduce the output (i.e., `[1,2,3]`) with `+` binary operator"
   ]
  },
  {
   "cell_type": "code",
   "execution_count": 27,
   "metadata": {},
   "outputs": [
    {
     "data": {
      "text/plain": [
       "6.0"
      ]
     },
     "execution_count": 27,
     "metadata": {},
     "output_type": "execute_result"
    }
   ],
   "source": [
    "mapreduce(sqrt, +, [1,4,9])"
   ]
  },
  {
   "cell_type": "markdown",
   "metadata": {},
   "source": [
    "This is equivalent to the following code but **`mapreduce` is faster**:"
   ]
  },
  {
   "cell_type": "code",
   "execution_count": 267,
   "metadata": {},
   "outputs": [
    {
     "data": {
      "text/plain": [
       "3-element Array{Float64,1}:\n",
       " 1.0\n",
       " 2.0\n",
       " 3.0"
      ]
     },
     "execution_count": 267,
     "metadata": {},
     "output_type": "execute_result"
    }
   ],
   "source": [
    "intermediate_colletion = map(sqrt, [1,4,9])"
   ]
  },
  {
   "cell_type": "code",
   "execution_count": 270,
   "metadata": {},
   "outputs": [
    {
     "data": {
      "text/plain": [
       "6.0"
      ]
     },
     "execution_count": 270,
     "metadata": {},
     "output_type": "execute_result"
    }
   ],
   "source": [
    "reduce(+, intermediate_colletion)"
   ]
  },
  {
   "cell_type": "markdown",
   "metadata": {},
   "source": [
    "# Good practices on Julia programming\n",
    "\n",
    "* [Stylistic Conventions](https://docs.julialang.org/en/latest/manual/variables/#Stylistic-Conventions-1)\n",
    "\n",
    "* [Style Guide](https://docs.julialang.org/en/latest/manual/style-guide/)\n",
    "\n"
   ]
  },
  {
   "cell_type": "markdown",
   "metadata": {},
   "source": [
    "# See you tomorrow!\n",
    "\n",
    "<a data-flickr-embed=\"true\"  href=\"https://www.flickr.com/photos/39983379@N00/20832373062/in/album-72157649285761849/\" title=\"Café com ovo e tapioca\"><img src=\"https://farm1.staticflickr.com/688/20832373062_d71954ce36_n.jpg\" width=\"320\" height=\"198\" alt=\"Café com ovo e tapioca\"></a><script async src=\"//embedr.flickr.com/assets/client-code.js\" charset=\"utf-8\"></script>"
   ]
  },
  {
   "cell_type": "markdown",
   "metadata": {},
   "source": [
    "\n",
    "\n",
    "\n",
    "\n",
    "\n",
    "\n",
    "\n",
    "\n",
    "\n",
    "\n",
    "\n",
    "\n",
    "\n",
    "\n",
    "\n",
    "\n",
    "\n",
    "\n",
    "\n",
    "\n",
    "\n",
    "\n",
    "\n",
    "\n"
   ]
  }
 ],
 "metadata": {
  "kernelspec": {
   "display_name": "Julia 0.6.3",
   "language": "julia",
   "name": "julia-0.6"
  },
  "language_info": {
   "file_extension": ".jl",
   "mimetype": "application/julia",
   "name": "julia",
   "version": "0.6.3"
  }
 },
 "nbformat": 4,
 "nbformat_minor": 1
}
