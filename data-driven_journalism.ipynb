{
 "cells": [
  {
   "cell_type": "markdown",
   "metadata": {},
   "source": [
    "# A Simple Example of a [Data-driven Journalism](https://en.wikipedia.org/wiki/Data-driven_journalism) Application\n",
    "---"
   ]
  },
  {
   "cell_type": "code",
   "execution_count": 1,
   "metadata": {},
   "outputs": [],
   "source": [
    "#Pkg.add(\"CSV\")\n",
    "#Pkg.add(\"DataFrames\")\n",
    "#Pkg.add(\"Query\")\n",
    "using CSV\n",
    "using DataFrames\n",
    "#using Query"
   ]
  },
  {
   "cell_type": "markdown",
   "metadata": {},
   "source": [
    "# Question 1\n",
    "\n",
    "_Which are the people that are affiliated to a Brazilian political party and also are public servants from a Brazilian federal university?_\n",
    "\n",
    "## Data (acquisition)\n",
    "\n",
    "* List of all public servants from the [Brazilian Official Transparency Web portal](http://transparencia.gov.br). \n",
    "* List of [all people affiliated to all Brazilian political parties](http://dados.gov.br/dataset/filiados-partidos-politicos) from the [Brazilian Offical Open Data Portal](http://dados.gov.br).\n",
    "\n",
    "_Remark - BUGFIX: We faced problems when loading the origianl files so we created copied versions of these files to work on._"
   ]
  },
  {
   "cell_type": "code",
   "execution_count": 2,
   "metadata": {},
   "outputs": [
    {
     "data": {
      "text/html": [
       "<table class=\"data-frame\"><thead><tr><th></th><th>DATA DA EXTRACAO</th><th>HORA DA EXTRACAO</th><th>NUMERO DA INSCRICAO</th><th>NOME DO FILIADO</th><th>SIGLA DO PARTIDO</th><th>NOME DO PARTIDO</th><th>UF</th><th>CODIGO DO MUNICIPIO</th><th>NOME DO MUNICIPIO</th><th>ZONA ELEITORAL</th><th>SECAO ELEITORAL</th><th>DATA DA FILIACAO</th><th>SITUACAO DO REGISTRO</th><th>TIPO DO REGISTRO</th><th>DATA DO PROCESSAMENTO</th><th>DATA DA DESFILIACAO</th><th>DATA DO CANCELAMENTO</th><th>DATA DA REGULARIZACAO</th><th>MOTIVO DO CANCELAMENTO</th></tr></thead><tbody><tr><th>1</th><td>29/07/2018</td><td>00:57:37</td><td>24221531783</td><td>CARLOS HENRIQUE GUEDES DE ALMEIDA</td><td>PT</td><td>PARTIDO DOS TRABALHADORES</td><td>AL</td><td>27855</td><td>MACEIÓ</td><td>1</td><td>39</td><td>15/09/2004</td><td>REGULAR</td><td>OFICIAL</td><td>14/04/2018</td><td>missing</td><td>missing</td><td>missing</td><td>missing</td></tr><tr><th>2</th><td>29/07/2018</td><td>00:57:37</td><td>26591771740</td><td>DJALBA JOAQUIM DOS SANTOS</td><td>PT</td><td>PARTIDO DOS TRABALHADORES</td><td>AL</td><td>27197</td><td>BOCA DA MATA</td><td>48</td><td>56</td><td>25/09/2007</td><td>REGULAR</td><td>OFICIAL</td><td>15/04/2016</td><td>missing</td><td>missing</td><td>missing</td><td>missing</td></tr><tr><th>3</th><td>29/07/2018</td><td>00:57:37</td><td>17819191791</td><td>JOSE MATIAS DOS SANTOS</td><td>PT</td><td>PARTIDO DOS TRABALHADORES</td><td>AL</td><td>28932</td><td>TEOTÔNIO VILELA</td><td>34</td><td>132</td><td>03/07/2003</td><td>REGULAR</td><td>OFICIAL</td><td>14/04/2018</td><td>missing</td><td>missing</td><td>missing</td><td>missing</td></tr><tr><th>4</th><td>29/07/2018</td><td>00:57:37</td><td>4356561708</td><td>RICARDO JOSE MORONI VALENCA</td><td>PT</td><td>PARTIDO DOS TRABALHADORES</td><td>AL</td><td>27855</td><td>MACEIÓ</td><td>2</td><td>199</td><td>24/12/1987</td><td>CANCELADO</td><td>OFICIAL</td><td>14/04/2018</td><td>missing</td><td>02/03/2016</td><td>missing</td><td>Judicial</td></tr><tr><th>5</th><td>29/07/2018</td><td>00:57:37</td><td>2965641708</td><td>PEDRO CIRILO DOS SANTOS</td><td>PT</td><td>PARTIDO DOS TRABALHADORES</td><td>AL</td><td>28436</td><td>POÇO DAS TRINCHEIRAS</td><td>50</td><td>18</td><td>08/07/1999</td><td>REGULAR</td><td>OFICIAL</td><td>16/04/2015</td><td>missing</td><td>missing</td><td>missing</td><td>missing</td></tr><tr><th>6</th><td>29/07/2018</td><td>00:57:37</td><td>24600801767</td><td>REGIVANIO PINTO</td><td>PT</td><td>PARTIDO DOS TRABALHADORES</td><td>AL</td><td>28436</td><td>POÇO DAS TRINCHEIRAS</td><td>50</td><td>32</td><td>29/07/1999</td><td>REGULAR</td><td>OFICIAL</td><td>16/04/2015</td><td>missing</td><td>missing</td><td>missing</td><td>missing</td></tr><tr><th>7</th><td>29/07/2018</td><td>00:57:37</td><td>16963271708</td><td>MARINALVA DE OMENA SILVA</td><td>PT</td><td>PARTIDO DOS TRABALHADORES</td><td>AL</td><td>27855</td><td>MACEIÓ</td><td>2</td><td>93</td><td>02/04/2007</td><td>REGULAR</td><td>OFICIAL</td><td>15/04/2016</td><td>missing</td><td>missing</td><td>missing</td><td>missing</td></tr><tr><th>8</th><td>29/07/2018</td><td>00:57:37</td><td>25753411708</td><td>GEDIVAN COSTA</td><td>PT</td><td>PARTIDO DOS TRABALHADORES</td><td>AL</td><td>27855</td><td>MACEIÓ</td><td>3</td><td>56</td><td>02/09/2007</td><td>REGULAR</td><td>OFICIAL</td><td>15/04/2016</td><td>missing</td><td>missing</td><td>missing</td><td>missing</td></tr><tr><th>9</th><td>29/07/2018</td><td>00:57:37</td><td>18522211716</td><td>JOSILENE DA SILVA SANTOS</td><td>PT</td><td>PARTIDO DOS TRABALHADORES</td><td>AL</td><td>27855</td><td>MACEIÓ</td><td>3</td><td>37</td><td>07/07/1999</td><td>REGULAR</td><td>OFICIAL</td><td>15/04/2016</td><td>missing</td><td>missing</td><td>missing</td><td>missing</td></tr><tr><th>10</th><td>29/07/2018</td><td>00:57:37</td><td>31821091708</td><td>ASSIS ALEXANDRE DA SILVA</td><td>PT</td><td>PARTIDO DOS TRABALHADORES</td><td>AL</td><td>27278</td><td>CAMPO ALEGRE</td><td>47</td><td>55</td><td>10/05/2004</td><td>REGULAR</td><td>OFICIAL</td><td>16/10/2015</td><td>missing</td><td>missing</td><td>missing</td><td>missing</td></tr><tr><th>11</th><td>29/07/2018</td><td>00:57:37</td><td>16376981767</td><td>MOISES TELES DA SILVA</td><td>PT</td><td>PARTIDO DOS TRABALHADORES</td><td>AL</td><td>27855</td><td>MACEIÓ</td><td>54</td><td>121</td><td>23/01/2003</td><td>REGULAR</td><td>OFICIAL</td><td>15/04/2016</td><td>missing</td><td>missing</td><td>missing</td><td>missing</td></tr><tr><th>12</th><td>29/07/2018</td><td>00:57:37</td><td>24511871708</td><td>MARIA JOSE DOS SANTOS</td><td>PT</td><td>PARTIDO DOS TRABALHADORES</td><td>AL</td><td>28550</td><td>ROTEIRO</td><td>18</td><td>175</td><td>19/03/2004</td><td>REGULAR</td><td>OFICIAL</td><td>16/10/2012</td><td>missing</td><td>missing</td><td>missing</td><td>missing</td></tr><tr><th>13</th><td>29/07/2018</td><td>00:57:37</td><td>2973651708</td><td>CICERA TENORIO DE HOLANDA</td><td>PT</td><td>PARTIDO DOS TRABALHADORES</td><td>AL</td><td>28193</td><td>OLIVENÇA</td><td>19</td><td>41</td><td>24/09/1999</td><td>REGULAR</td><td>OFICIAL</td><td>17/04/2012</td><td>missing</td><td>missing</td><td>missing</td><td>missing</td></tr><tr><th>14</th><td>29/07/2018</td><td>00:57:37</td><td>26267491775</td><td>MARCIANGELA GONCALVES DE LIMA</td><td>PT</td><td>PARTIDO DOS TRABALHADORES</td><td>AL</td><td>28851</td><td>UNIÃO DOS PALMARES</td><td>21</td><td>64</td><td>30/09/2003</td><td>CANCELADO</td><td>OFICIAL</td><td>15/04/2016</td><td>15/07/2007</td><td>15/07/2007</td><td>missing</td><td>A pedido do eleitor</td></tr><tr><th>15</th><td>29/07/2018</td><td>00:57:37</td><td>7096321716</td><td>MARIA HELENA DE LIMA</td><td>PT</td><td>PARTIDO DOS TRABALHADORES</td><td>AL</td><td>27855</td><td>MACEIÓ</td><td>3</td><td>162</td><td>05/12/1985</td><td>REGULAR</td><td>OFICIAL</td><td>14/04/2018</td><td>missing</td><td>missing</td><td>missing</td><td>missing</td></tr><tr><th>16</th><td>29/07/2018</td><td>00:57:37</td><td>23734801791</td><td>CLAUDEVAN DE LIMA FERREIRA</td><td>PT</td><td>PARTIDO DOS TRABALHADORES</td><td>AL</td><td>28690</td><td>SÃO LUÍS DO QUITUNDE</td><td>17</td><td>42</td><td>10/05/1995</td><td>REGULAR</td><td>OFICIAL</td><td>16/10/2012</td><td>missing</td><td>missing</td><td>missing</td><td>missing</td></tr><tr><th>17</th><td>29/07/2018</td><td>00:57:37</td><td>28491491716</td><td>HELVIO ABREU VANDERLEI DE SOUZA</td><td>PT</td><td>PARTIDO DOS TRABALHADORES</td><td>AL</td><td>28916</td><td>SENADOR RUI PALMEIRA</td><td>51</td><td>81</td><td>05/10/2007</td><td>CANCELADO</td><td>OFICIAL</td><td>17/04/2012</td><td>missing</td><td>20/07/2011</td><td>missing</td><td>A pedido do eleitor</td></tr><tr><th>18</th><td>29/07/2018</td><td>00:57:37</td><td>4348561775</td><td>ERNALDO BATISTA DA SILVA</td><td>PT</td><td>PARTIDO DOS TRABALHADORES</td><td>AL</td><td>27472</td><td>DELMIRO GOUVEIA</td><td>40</td><td>3</td><td>27/12/1987</td><td>REGULAR</td><td>OFICIAL</td><td>15/04/2016</td><td>missing</td><td>missing</td><td>missing</td><td>missing</td></tr><tr><th>19</th><td>29/07/2018</td><td>00:57:37</td><td>21628971716</td><td>HELIO BARBOSA DA SILVA</td><td>PT</td><td>PARTIDO DOS TRABALHADORES</td><td>AL</td><td>27278</td><td>CAMPO ALEGRE</td><td>47</td><td>45</td><td>30/08/1999</td><td>REGULAR</td><td>OFICIAL</td><td>16/10/2015</td><td>missing</td><td>missing</td><td>missing</td><td>missing</td></tr><tr><th>20</th><td>29/07/2018</td><td>00:57:37</td><td>30719581759</td><td>DIEGO CARDOSO RAMOS</td><td>PT</td><td>PARTIDO DOS TRABALHADORES</td><td>AL</td><td>27855</td><td>MACEIÓ</td><td>54</td><td>159</td><td>23/03/2007</td><td>REGULAR</td><td>OFICIAL</td><td>14/04/2018</td><td>missing</td><td>missing</td><td>missing</td><td>missing</td></tr><tr><th>21</th><td>29/07/2018</td><td>00:57:37</td><td>15655780841</td><td>TIAGO JOAO DE OLIVEIRA</td><td>PT</td><td>PARTIDO DOS TRABALHADORES</td><td>AL</td><td>28533</td><td>RIO LARGO</td><td>15</td><td>71</td><td>18/05/1988</td><td>REGULAR</td><td>OFICIAL</td><td>15/04/2016</td><td>missing</td><td>missing</td><td>missing</td><td>missing</td></tr><tr><th>22</th><td>29/07/2018</td><td>00:57:37</td><td>27930081740</td><td>ALINE DE SANTANA LIMA</td><td>PT</td><td>PARTIDO DOS TRABALHADORES</td><td>AL</td><td>27855</td><td>MACEIÓ</td><td>54</td><td>152</td><td>25/08/2001</td><td>REGULAR</td><td>OFICIAL</td><td>15/04/2016</td><td>missing</td><td>missing</td><td>missing</td><td>missing</td></tr><tr><th>23</th><td>29/07/2018</td><td>00:57:37</td><td>5073271783</td><td>ANA LUCIA DA SILVA</td><td>PT</td><td>PARTIDO DOS TRABALHADORES</td><td>AL</td><td>28371</td><td>PILAR</td><td>8</td><td>24</td><td>25/10/1995</td><td>REGULAR</td><td>OFICIAL</td><td>17/04/2012</td><td>missing</td><td>missing</td><td>missing</td><td>missing</td></tr><tr><th>24</th><td>29/07/2018</td><td>00:57:37</td><td>5073271783</td><td>ANA LUCIA DA SILVA</td><td>PT</td><td>PARTIDO DOS TRABALHADORES</td><td>AL</td><td>28371</td><td>PILAR</td><td>8</td><td>24</td><td>25/10/1996</td><td>CANCELADO</td><td>OFICIAL</td><td>17/04/2012</td><td>missing</td><td>04/12/2009</td><td>missing</td><td>Judicial</td></tr><tr><th>25</th><td>29/07/2018</td><td>00:57:37</td><td>23805661783</td><td>HUGO ALVES</td><td>PT</td><td>PARTIDO DOS TRABALHADORES</td><td>AL</td><td>28452</td><td>PORTO CALVO</td><td>14</td><td>68</td><td>15/08/1999</td><td>DESFILIADO</td><td>OFICIAL</td><td>15/10/2016</td><td>14/04/2011</td><td>missing</td><td>missing</td><td>missing</td></tr><tr><th>26</th><td>29/07/2018</td><td>00:57:37</td><td>4700291759</td><td>MARIA DO CARMO PANTALEAO</td><td>PT</td><td>PARTIDO DOS TRABALHADORES</td><td>AL</td><td>28495</td><td>PORTO REAL DO COLÉGIO</td><td>37</td><td>5</td><td>10/05/1995</td><td>REGULAR</td><td>OFICIAL</td><td>17/04/2012</td><td>missing</td><td>missing</td><td>missing</td><td>missing</td></tr><tr><th>27</th><td>29/07/2018</td><td>00:57:37</td><td>25328261732</td><td>MARCOS SOARES DA CRUZ</td><td>PT</td><td>PARTIDO DOS TRABALHADORES</td><td>AL</td><td>27634</td><td>IGREJA NOVA</td><td>37</td><td>164</td><td>10/09/2003</td><td>REGULAR</td><td>OFICIAL</td><td>17/04/2012</td><td>missing</td><td>missing</td><td>missing</td><td>missing</td></tr><tr><th>28</th><td>29/07/2018</td><td>00:57:37</td><td>18890861759</td><td>JAIRA SANTOS DA SILVA</td><td>PT</td><td>PARTIDO DOS TRABALHADORES</td><td>AL</td><td>28274</td><td>PÃO DE AÇÚCAR</td><td>11</td><td>73</td><td>01/04/1992</td><td>REGULAR</td><td>OFICIAL</td><td>18/04/2017</td><td>missing</td><td>missing</td><td>missing</td><td>missing</td></tr><tr><th>29</th><td>29/07/2018</td><td>00:57:37</td><td>17904231740</td><td>GILVAN PEREIRA DOS SANTOS</td><td>PT</td><td>PARTIDO DOS TRABALHADORES</td><td>AL</td><td>27022</td><td>PARICONHA</td><td>39</td><td>53</td><td>28/09/2003</td><td>REGULAR</td><td>OFICIAL</td><td>16/10/2012</td><td>missing</td><td>missing</td><td>missing</td><td>missing</td></tr><tr><th>30</th><td>29/07/2018</td><td>00:57:37</td><td>7175031759</td><td>MANOEL MARQUES DA COSTA</td><td>PT</td><td>PARTIDO DOS TRABALHADORES</td><td>AL</td><td>27030</td><td>ANADIA</td><td>48</td><td>109</td><td>14/12/1995</td><td>REGULAR</td><td>OFICIAL</td><td>15/10/2016</td><td>missing</td><td>missing</td><td>missing</td><td>missing</td></tr><tr><th>&vellip;</th><td>&vellip;</td><td>&vellip;</td><td>&vellip;</td><td>&vellip;</td><td>&vellip;</td><td>&vellip;</td><td>&vellip;</td><td>&vellip;</td><td>&vellip;</td><td>&vellip;</td><td>&vellip;</td><td>&vellip;</td><td>&vellip;</td><td>&vellip;</td><td>&vellip;</td><td>&vellip;</td><td>&vellip;</td><td>&vellip;</td><td>&vellip;</td></tr></tbody></table>"
      ],
      "text/plain": [
       "201×19 DataFrames.DataFrame. Omitted printing of 16 columns\n",
       "│ Row │ DATA DA EXTRACAO │ HORA DA EXTRACAO │ NUMERO DA INSCRICAO │\n",
       "├─────┼──────────────────┼──────────────────┼─────────────────────┤\n",
       "│ 1   │ 29/07/2018       │ 00:57:37         │ 24221531783         │\n",
       "│ 2   │ 29/07/2018       │ 00:57:37         │ 26591771740         │\n",
       "│ 3   │ 29/07/2018       │ 00:57:37         │ 17819191791         │\n",
       "│ 4   │ 29/07/2018       │ 00:57:37         │ 4356561708          │\n",
       "│ 5   │ 29/07/2018       │ 00:57:37         │ 2965641708          │\n",
       "│ 6   │ 29/07/2018       │ 00:57:37         │ 24600801767         │\n",
       "│ 7   │ 29/07/2018       │ 00:57:37         │ 16963271708         │\n",
       "│ 8   │ 29/07/2018       │ 00:57:37         │ 25753411708         │\n",
       "│ 9   │ 29/07/2018       │ 00:57:37         │ 18522211716         │\n",
       "│ 10  │ 29/07/2018       │ 00:57:37         │ 31821091708         │\n",
       "│ 11  │ 29/07/2018       │ 00:57:37         │ 16376981767         │\n",
       "⋮\n",
       "│ 190 │ 29/07/2018       │ 00:57:37         │ 25804271783         │\n",
       "│ 191 │ 29/07/2018       │ 00:57:37         │ 7681101708          │\n",
       "│ 192 │ 29/07/2018       │ 00:57:37         │ 25468891783         │\n",
       "│ 193 │ 29/07/2018       │ 00:57:37         │ 318885920116        │\n",
       "│ 194 │ 29/07/2018       │ 00:57:37         │ 19677571708         │\n",
       "│ 195 │ 29/07/2018       │ 00:57:37         │ 27695291783         │\n",
       "│ 196 │ 29/07/2018       │ 00:57:37         │ 25132761783         │\n",
       "│ 197 │ 29/07/2018       │ 00:57:37         │ 244412870116        │\n",
       "│ 198 │ 29/07/2018       │ 00:57:37         │ 21460821759         │\n",
       "│ 199 │ 29/07/2018       │ 00:57:37         │ 32068781767         │\n",
       "│ 200 │ 29/07/2018       │ 00:57:37         │ 2222491732          │\n",
       "│ 201 │ 29/07/2018       │ 00:57:37         │ 0                   │"
      ]
     },
     "execution_count": 2,
     "metadata": {},
     "output_type": "execute_result"
    }
   ],
   "source": [
    "# Loading dataset: all people affiliate to the political party (ex.: PT)\n",
    "path_ptal = \"data-ddj/filiados-al/aplic-7/sead/lista_filiados/uf/filiados_pt_al-Unicode-200_lines.csv\"\n",
    "ptal = CSV.read(path_ptal,delim=\";\")"
   ]
  },
  {
   "cell_type": "code",
   "execution_count": 4,
   "metadata": {},
   "outputs": [
    {
     "data": {
      "text/html": [
       "<table class=\"data-frame\"><thead><tr><th></th><th>Id_SERVIDOR_PORTAL</th><th>NOME</th><th>CPF</th><th>MATRICULA</th><th>DESCRICAO_CARGO</th><th>CLASSE_CARGO</th><th>REFERENCIA_CARGO</th><th>PADRAO_CARGO</th><th>NIVEL_CARGO</th><th>SIGLA_FUNCAO</th><th>NIVEL_FUNCAO</th><th>FUNCAO</th><th>CODIGO_ATIVIDADE</th><th>ATIVIDADE</th><th>OPCAO_PARCIAL</th><th>COD_UORG_LOTACAO</th><th>UORG_LOTACAO</th><th>COD_ORG_LOTACAO</th><th>ORG_LOTACAO</th><th>COD_ORGSUP_LOTACAO</th><th>ORGSUP_LOTACAO</th><th>COD_UORG_EXERCICIO</th><th>UORG_EXERCICIO</th><th>COD_ORG_EXERCICIO</th><th>ORG_EXERCICIO</th><th>COD_ORGSUP_EXERCICIO</th><th>ORGSUP_EXERCICIO</th><th>TIPO_VINCULO</th><th>SITUACAO_VINCULO</th><th>DATA_INICIO_AFASTAMENTO</th><th>DATA_TERMINO_AFASTAMENTO</th><th>REGIME_JURIDICO</th><th>JORNADA_DE_TRABALHO</th><th>DATA_INGRESSO_CARGOFUNCAO</th><th>DATA_NOMEACAO_CARGOFUNCAO</th><th>DATA_INGRESSO_ORGAO</th><th>DOCUMENTO_INGRESSO_SERVICOPUBLICO</th><th>DATA_DIPLOMA_INGRESSO_SERVICOPUBLICO</th><th>DIPLOMA_INGRESSO_CARGOFUNCAO</th><th>DIPLOMA_INGRESSO_ORGAO</th><th>DIPLOMA_INGRESSO_SERVICOPUBLICO</th><th>UF_EXERCICIO</th></tr></thead><tbody><tr><th>1</th><td>5116961</td><td>AARAO CARLOS LUZ MACAMBIRA</td><td>***.017.623-**</td><td>016****</td><td>BIBLIOTECARIO-DOCUMENTALISTA</td><td>E</td><td>0</td><td>306</td><td>0</td><td>-1</td><td>-1</td><td>Sem informa袯</td><td>-1</td><td>Sem informa袯</td><td>missing</td><td>26405000000040</td><td>DIRETORIA GERAL/CAMPUS SOBRAL</td><td>26405</td><td>INSTITUTO FEDERAL DO CEARA</td><td>15000</td><td>MINISTERIO DA EDUCACAO</td><td>26405000000040</td><td>DIRETORIA GERAL/CAMPUS SOBRAL</td><td>26405</td><td>INSTITUTO FEDERAL DO CEARA</td><td>15000</td><td>MINISTERIO DA EDUCACAO</td><td>2</td><td>ATIVO PERMANENTE</td><td>missing</td><td>missing</td><td>REGIME JURIDICO UNICO</td><td>40 HORAS SEMANAIS</td><td>11/02/2009</td><td>missing</td><td>29/12/2008</td><td>699</td><td>11/02/2009</td><td>missing</td><td>LEI</td><td>PORTARIA</td><td>CE</td></tr><tr><th>2</th><td>201964</td><td>AARAO DIAMANTINO OLIVEIRA</td><td>***.056.281-**</td><td>000****</td><td>ANALISTA DO BANCO CENTRAL</td><td>E</td><td>missing</td><td>IV</td><td>missing</td><td>-1</td><td>-1</td><td>Sem informa袯</td><td>-1</td><td>Sem informa袯</td><td>missing</td><td>25201000000000</td><td>BANCO CENTRAL DO BRASIL</td><td>25201</td><td>BANCO CENTRAL DO BRASIL</td><td>-1</td><td>Sem informa袯</td><td>25201000000000</td><td>BANCO CENTRAL DO BRASIL</td><td>25201</td><td>BANCO CENTRAL DO BRASIL</td><td>-1</td><td>Sem informa袯</td><td>2</td><td>ATIVO PERMANENTE</td><td>missing</td><td>missing</td><td>REGIME JURIDICO UNICO</td><td>40 HORAS SEMANAIS</td><td>05/01/1998</td><td>missing</td><td>missing</td><td>000000000</td><td>05/01/1998</td><td>missing</td><td>Inv૩do</td><td>Inv૩do</td><td>DF</td></tr><tr><th>3</th><td>201964</td><td>AARAO DIAMANTINO OLIVEIRA</td><td>***.056.281-**</td><td>000****</td><td>Sem informa袯</td><td>missing</td><td>-1</td><td>-1</td><td>-1</td><td>FBC</td><td>FDT1</td><td>FUNCAO COMISSIONADA DO BANCO CENTRAL</td><td>FDT1</td><td>CHEFE DE SUBUNIDADE</td><td>missing</td><td>25201000000000</td><td>BANCO CENTRAL DO BRASIL</td><td>25201</td><td>BANCO CENTRAL DO BRASIL</td><td>-1</td><td>Sem informa袯</td><td>25201000000000</td><td>BANCO CENTRAL DO BRASIL</td><td>25201</td><td>BANCO CENTRAL DO BRASIL</td><td>-1</td><td>Sem informa袯</td><td>1</td><td>ATIVO PERMANENTE</td><td>missing</td><td>missing</td><td>REGIME JURIDICO UNICO</td><td>40 HORAS SEMANAIS</td><td>04/06/2018</td><td>missing</td><td>missing</td><td>000000000</td><td>05/01/1998</td><td>missing</td><td>Inv૩do</td><td>Inv૩do</td><td>-1</td></tr><tr><th>4</th><td>4405000</td><td>AARAO FERREIRA LIMA NETO</td><td>***.116.132-**</td><td>014****</td><td>Sem informa袯</td><td>missing</td><td>-1</td><td>-1</td><td>-1</td><td>FG</td><td>0001</td><td>FUNCAO GRATIFICADA - IFES</td><td>0099</td><td>DIRETOR</td><td>missing</td><td>26239000001515</td><td>NUCLEO DE DESENV AMAZONICO EM ENGENHARIA</td><td>26239</td><td>UNIVERSIDADE FEDERAL DO PARA</td><td>15000</td><td>MINISTERIO DA EDUCACAO</td><td>26239000001515</td><td>NUCLEO DE DESENV AMAZONICO EM ENGENHARIA</td><td>26239</td><td>UNIVERSIDADE FEDERAL DO PARA</td><td>15000</td><td>MINISTERIO DA EDUCACAO</td><td>1</td><td>ATIVO PERMANENTE</td><td>missing</td><td>missing</td><td>REGIME JURIDICO UNICO</td><td>DEDICACAO EXCLUSIVA</td><td>13/04/2016</td><td>missing</td><td>24/07/2006</td><td>2475</td><td>16/08/2006</td><td>missing</td><td>PORTARIA</td><td>PORTARIA</td><td>-1</td></tr><tr><th>5</th><td>4405000</td><td>AARAO FERREIRA LIMA NETO</td><td>***.116.132-**</td><td>014****</td><td>PROFESSOR DO MAGISTERIO SUPERIOR</td><td>6</td><td>0</td><td>missing</td><td>603</td><td>-1</td><td>-1</td><td>Sem informa袯</td><td>-1</td><td>Sem informa袯</td><td>missing</td><td>26239000001515</td><td>NUCLEO DE DESENV AMAZONICO EM ENGENHARIA</td><td>26239</td><td>UNIVERSIDADE FEDERAL DO PARA</td><td>15000</td><td>MINISTERIO DA EDUCACAO</td><td>26239000001515</td><td>NUCLEO DE DESENV AMAZONICO EM ENGENHARIA</td><td>26239</td><td>UNIVERSIDADE FEDERAL DO PARA</td><td>15000</td><td>MINISTERIO DA EDUCACAO</td><td>2</td><td>ATIVO PERMANENTE</td><td>missing</td><td>missing</td><td>REGIME JURIDICO UNICO</td><td>DEDICACAO EXCLUSIVA</td><td>01/03/2013</td><td>missing</td><td>24/07/2006</td><td>2475</td><td>16/08/2006</td><td>missing</td><td>PORTARIA</td><td>PORTARIA</td><td>-1</td></tr><tr><th>6</th><td>4915841</td><td>AARAO PEREIRA DE ARAUJO JUNIOR</td><td>***.031.184-**</td><td>002****</td><td>PROFESSOR ENS BASICO TECN TECNOLOGICO</td><td>D</td><td>0</td><td>missing</td><td>501</td><td>-1</td><td>-1</td><td>Sem informa袯</td><td>-1</td><td>Sem informa袯</td><td>missing</td><td>26417000000013</td><td>DIR. DESENVOLVIMENTO ENSINO-JP</td><td>26417</td><td>INSTITUTO FEDERAL DA PARAIBA</td><td>15000</td><td>MINISTERIO DA EDUCACAO</td><td>26417000000240</td><td>UNID. ACAD. I DES, ESTR.M.AMB-JP</td><td>26417</td><td>INSTITUTO FEDERAL DA PARAIBA</td><td>15000</td><td>MINISTERIO DA EDUCACAO</td><td>2</td><td>ATIVO PERMANENTE</td><td>missing</td><td>missing</td><td>REGIME JURIDICO UNICO</td><td>DEDICACAO EXCLUSIVA</td><td>01/03/2013</td><td>missing</td><td>29/12/2008</td><td>000000124</td><td>03/05/1993</td><td>missing</td><td>LEI</td><td>PORTARIA</td><td>PB</td></tr><tr><th>7</th><td>5105492</td><td>AARAO SOARES</td><td>***.859.807-**</td><td>014****</td><td>AGENTE DE COMBATE AS ENDEMIAS</td><td>S</td><td>0</td><td>V</td><td>0</td><td>-1</td><td>-1</td><td>Sem informa袯</td><td>-1</td><td>Sem informa袯</td><td>missing</td><td>25000000003648</td><td>SUS-SMS/DUQUE DE CAXIAS</td><td>25000</td><td>MINISTERIO DA SAUDE</td><td>-1</td><td>Sem informa袯</td><td>-3</td><td>Inv૩do</td><td>99991</td><td>ESTADOS / MUNICIPIOS / EMPRESAS</td><td>-1</td><td>Sem informa袯</td><td>2</td><td>CEDIDO SUS/LEI 8270</td><td>missing</td><td>missing</td><td>REGIME JURIDICO UNICO</td><td>40 HORAS SEMANAIS</td><td>04/09/2014</td><td>missing</td><td>04/09/2014</td><td>13026</td><td>04/09/2014</td><td>missing</td><td>LEI</td><td>LEI</td><td>-1</td></tr><tr><th>8</th><td>8114023</td><td>AARAO TEIXEIRA DOS SANTOS</td><td>***.086.942-**</td><td>019****</td><td>AGENTE ADMINISTRATIVO</td><td>A</td><td>0</td><td>V</td><td>0</td><td>-1</td><td>-1</td><td>Sem informa袯</td><td>-1</td><td>Sem informa袯</td><td>missing</td><td>40603000000192</td><td>ALC Macapa e Santana</td><td>40603</td><td>SUPERINTENDENCIA ZONA FRANCA DE MANAUS</td><td>28000</td><td>MINISTERIO IND. COM. EXTERIOR E SERVI掓</td><td>40603000000192</td><td>ALC Macapa e Santana</td><td>40603</td><td>SUPERINTENDENCIA ZONA FRANCA DE MANAUS</td><td>28000</td><td>MINISTERIO IND. COM. EXTERIOR E SERVI掓</td><td>2</td><td>ATIVO PERMANENTE</td><td>missing</td><td>missing</td><td>REGIME JURIDICO UNICO</td><td>40 HORAS SEMANAIS</td><td>02/04/2012</td><td>missing</td><td>23/02/2012</td><td>56</td><td>02/04/2012</td><td>missing</td><td>PORTARIA</td><td>PORTARIA</td><td>AP</td></tr><tr><th>9</th><td>2671</td><td>AARON DE SOUSA ALVES</td><td>***.291.814-**</td><td>022****</td><td>PROFESSOR ENS BASICO TECN TECNOLOGICO</td><td>D</td><td>0</td><td>missing</td><td>102</td><td>-1</td><td>-1</td><td>Sem informa袯</td><td>-1</td><td>Sem informa袯</td><td>missing</td><td>26431000000342</td><td>DIRETORIA DE ENSINO CAMPUS OEIRAS</td><td>26431</td><td>INSTITUTO FEDERAL DO PIAUI</td><td>15000</td><td>MINISTERIO DA EDUCACAO</td><td>26431000000623</td><td>COORD DO CURSO TECNICO EM AGROPECUARIA</td><td>26431</td><td>INSTITUTO FEDERAL DO PIAUI</td><td>15000</td><td>MINISTERIO DA EDUCACAO</td><td>2</td><td>ATIVO PERMANENTE</td><td>missing</td><td>missing</td><td>REGIME JURIDICO UNICO</td><td>DEDICACAO EXCLUSIVA</td><td>12/11/2015</td><td>missing</td><td>19/10/2015</td><td>2410</td><td>12/11/2015</td><td>missing</td><td>PORTARIA</td><td>PORTARIA</td><td>-1</td></tr><tr><th>10</th><td>2671</td><td>AARON DE SOUSA ALVES</td><td>***.291.814-**</td><td>022****</td><td>Sem informa袯</td><td>missing</td><td>-1</td><td>-1</td><td>-1</td><td>FUC</td><td>0001</td><td>FUNCAO COMISSIONADA DE COORD. CURSO</td><td>0033</td><td>COORDENADOR</td><td>missing</td><td>26431000000342</td><td>DIRETORIA DE ENSINO CAMPUS OEIRAS</td><td>26431</td><td>INSTITUTO FEDERAL DO PIAUI</td><td>15000</td><td>MINISTERIO DA EDUCACAO</td><td>26431000000623</td><td>COORD DO CURSO TECNICO EM AGROPECUARIA</td><td>26431</td><td>INSTITUTO FEDERAL DO PIAUI</td><td>15000</td><td>MINISTERIO DA EDUCACAO</td><td>1</td><td>ATIVO PERMANENTE</td><td>missing</td><td>missing</td><td>REGIME JURIDICO UNICO</td><td>DEDICACAO EXCLUSIVA</td><td>15/02/2017</td><td>missing</td><td>19/10/2015</td><td>2410</td><td>12/11/2015</td><td>missing</td><td>PORTARIA</td><td>PORTARIA</td><td>-1</td></tr><tr><th>11</th><td>16237</td><td>AARON INACIO FREIRE</td><td>***.321.857-**</td><td>022****</td><td>ESP SUP DE ESTRATEGIA NUCLEAR - ESEN</td><td>E</td><td>0</td><td>missing</td><td>43</td><td>-1</td><td>-1</td><td>Sem informa袯</td><td>-1</td><td>Sem informa袯</td><td>missing</td><td>20304024015589</td><td>COORD MEIO AMBIENTE E PROT RADIOLOGICA</td><td>20304</td><td>INDUSTRIAS NUCLEARES DO BRASIL</td><td>40108</td><td>MINIST.DA CIɎCIA,TEC. INOV.E COMUNIȕES</td><td>-3</td><td>Inv૩do</td><td>20304</td><td>INDUSTRIAS NUCLEARES DO BRASIL</td><td>40108</td><td>MINIST.DA CIɎCIA,TEC. INOV.E COMUNIȕES</td><td>2</td><td>CELETISTA/EMPREGADO</td><td>missing</td><td>missing</td><td>CONSOLIDACAO DAS LEIS DO TRABALHO</td><td>44 HORAS SEMANAIS</td><td>01/08/2017</td><td>missing</td><td>03/08/2015</td><td>4372</td><td>03/08/2015</td><td>missing</td><td>CONTRATO</td><td>CONTRATO</td><td>-1</td></tr><tr><th>12</th><td>912539</td><td>AARON JONATHAN EDWARDS</td><td>***.873.832-**</td><td>028****</td><td>PROFESSOR DO MAGISTERIO SUPERIOR</td><td>4</td><td>0</td><td>missing</td><td>502</td><td>-1</td><td>-1</td><td>Sem informa袯</td><td>-1</td><td>Sem informa袯</td><td>missing</td><td>26250000000047</td><td>Dep. de Ciencias Economicas</td><td>26250</td><td>UNIVERSIDADE FEDERAL DE RORAIMA</td><td>15000</td><td>MINISTERIO DA EDUCACAO</td><td>26250000000047</td><td>Dep. de Ciencias Economicas</td><td>26250</td><td>UNIVERSIDADE FEDERAL DE RORAIMA</td><td>15000</td><td>MINISTERIO DA EDUCACAO</td><td>2</td><td>ATIVO PERMANENTE</td><td>missing</td><td>missing</td><td>REGIME JURIDICO UNICO</td><td>DEDICACAO EXCLUSIVA</td><td>08/01/2014</td><td>missing</td><td>05/12/2013</td><td>685</td><td>08/01/2014</td><td>missing</td><td>PORTARIA</td><td>PORTARIA</td><td>RR</td></tr><tr><th>13</th><td>7703888</td><td>AARON RAFAEL ERMEL GOMES</td><td>***.750.040-**</td><td>021****</td><td>AGENTE METROV - OPERACAO DE ESTACAO</td><td>1</td><td>0</td><td>missing</td><td>2</td><td>-1</td><td>-1</td><td>Sem informa袯</td><td>-1</td><td>Sem informa袯</td><td>missing</td><td>29205160603000</td><td>SETOR DE OPERACAO DE ESTACOES</td><td>29205</td><td>EMPRESA DE TRENS URBANOS DE PORTO ALEGRE</td><td>56000</td><td>MINISTERIO DAS CIDADES</td><td>-3</td><td>Inv૩do</td><td>29205</td><td>EMPRESA DE TRENS URBANOS DE PORTO ALEGRE</td><td>56000</td><td>MINISTERIO DAS CIDADES</td><td>2</td><td>CELETISTA/EMPREGADO</td><td>missing</td><td>missing</td><td>CONSOLIDACAO DAS LEIS DO TRABALHO</td><td>40 HORAS SEMANAIS</td><td>01/07/2014</td><td>missing</td><td>01/07/2014</td><td>missing</td><td>missing</td><td>missing</td><td>CONTRATO</td><td>Inv૩do</td><td>-1</td></tr><tr><th>14</th><td>5710805</td><td>ABADIA ADENISIA ROCHA E SILVA</td><td>***.201.086-**</td><td>022****</td><td>ASSISTENTE EM ADMINISTRACAO</td><td>D</td><td>0</td><td>202</td><td>0</td><td>-1</td><td>-1</td><td>Sem informa袯</td><td>-1</td><td>Sem informa袯</td><td>missing</td><td>26274000000247</td><td>PRO REITORIA EXTENSAO E CULTURA</td><td>26274</td><td>FUNDACAO UNIV. FEDERAL DE UBERLANDIA</td><td>15000</td><td>MINISTERIO DA EDUCACAO</td><td>26274000000252</td><td>DIVISAO DE APOIO A EDUCACAO BASICA</td><td>26274</td><td>FUNDACAO UNIV. FEDERAL DE UBERLANDIA</td><td>15000</td><td>MINISTERIO DA EDUCACAO</td><td>2</td><td>ATIVO PERMANENTE</td><td>missing</td><td>missing</td><td>REGIME JURIDICO UNICO</td><td>40 HORAS SEMANAIS</td><td>18/06/2015</td><td>missing</td><td>21/05/2015</td><td>1055</td><td>18/06/2015</td><td>missing</td><td>PORTARIA</td><td>PORTARIA</td><td>MG</td></tr><tr><th>15</th><td>1713121</td><td>ABADIA ALVES DA SILVA</td><td>***.240.302-**</td><td>023****</td><td>AUXILIAR EM ENFERMAGEM</td><td>S</td><td>0</td><td>III</td><td>0</td><td>-1</td><td>-1</td><td>Sem informa袯</td><td>-1</td><td>Sem informa袯</td><td>missing</td><td>40803000000002</td><td>SEPLAD/RO EM PORTO VELHO</td><td>40803</td><td>GOVERNO DO EX-TERRITORIO DE RONDONIA</td><td>20113</td><td>MINISTERIO DO PLANEJ. DESENV. E GESTAO</td><td>40803000000002</td><td>SEPLAD/RO EM PORTO VELHO</td><td>40803</td><td>GOVERNO DO EX-TERRITORIO DE RONDONIA</td><td>20113</td><td>MINISTERIO DO PLANEJ. DESENV. E GESTAO</td><td>2</td><td>ATIVO PERMANENTE</td><td>missing</td><td>missing</td><td>REGIME JURIDICO UNICO</td><td>40 HORAS SEMANAIS</td><td>04/08/2016</td><td>missing</td><td>04/08/2016</td><td>NI</td><td>29/06/1983</td><td>missing</td><td>PORTARIA</td><td>CONTRATO</td><td>RO</td></tr><tr><th>16</th><td>5309978</td><td>ABADIA CANDIDA LEMES</td><td>***.834.461-**</td><td>010****</td><td>GUARDA DE ENDEMIAS</td><td>S</td><td>0</td><td>III</td><td>0</td><td>-1</td><td>-1</td><td>Sem informa袯</td><td>-1</td><td>Sem informa袯</td><td>missing</td><td>25000000002410</td><td>SUS/MUNICIPAL - GO</td><td>25000</td><td>MINISTERIO DA SAUDE</td><td>-1</td><td>Sem informa袯</td><td>-3</td><td>Inv૩do</td><td>99991</td><td>ESTADOS / MUNICIPIOS / EMPRESAS</td><td>-1</td><td>Sem informa袯</td><td>2</td><td>CEDIDO SUS/LEI 8270</td><td>missing</td><td>missing</td><td>REGIME JURIDICO UNICO</td><td>40 HORAS SEMANAIS</td><td>02/01/2007</td><td>missing</td><td>29/06/2010</td><td>000000019</td><td>25/05/1987</td><td>missing</td><td>PORTARIA</td><td>CONTRATO</td><td>-1</td></tr><tr><th>17</th><td>2206005</td><td>ABADIA CRISTINA SOUZA SILVA</td><td>***.839.371-**</td><td>012****</td><td>TECNICO</td><td>3</td><td>0</td><td>missing</td><td>26</td><td>-1</td><td>-1</td><td>Sem informa袯</td><td>-1</td><td>Sem informa袯</td><td>missing</td><td>25207041012002</td><td>SUPGA/GAGEP/GAGEN</td><td>25207</td><td>SERVICO FED. DE PROCESSAMENTO DE DADOS</td><td>17000</td><td>MINISTERIO DA FAZENDA</td><td>-3</td><td>Inv૩do</td><td>25207</td><td>SERVICO FED. DE PROCESSAMENTO DE DADOS</td><td>17000</td><td>MINISTERIO DA FAZENDA</td><td>2</td><td>CELETISTA/EMPREGADO</td><td>missing</td><td>missing</td><td>CONSOLIDACAO DAS LEIS DO TRABALHO</td><td>40 HORAS SEMANAIS</td><td>01/07/2009</td><td>missing</td><td>02/12/1985</td><td>CCS DP 01</td><td>02/12/1985</td><td>missing</td><td>CONTRATO</td><td>CONTRATO</td><td>-1</td></tr><tr><th>18</th><td>6403578</td><td>ABADIA DA GLORIA ARAUJO SPEZIA</td><td>***.772.411-**</td><td>014****</td><td>ASSISTENTE ADMINISTRATIVO</td><td>D</td><td>0</td><td>001</td><td>0</td><td>-1</td><td>-1</td><td>Sem informa袯</td><td>-1</td><td>Sem informa袯</td><td>missing</td><td>13000000001203</td><td>COORD GERAL ADM DE PESSOAS</td><td>13000</td><td>MINIST.DA AGRICULTURA,PECUARIA E ABAST.</td><td>-1</td><td>Sem informa袯</td><td>-3</td><td>Inv૩do</td><td>99032</td><td>TRIBUNAL REGIONAL ELEITORAL - DF</td><td>-1</td><td>Sem informa袯</td><td>2</td><td>CLT ANS -DEC 6657/08</td><td>missing</td><td>missing</td><td>CONSOLIDACAO DAS LEIS DO TRABALHO</td><td>40 HORAS SEMANAIS</td><td>01/04/2013</td><td>missing</td><td>01/12/2008</td><td>357</td><td>29/12/2008</td><td>missing</td><td>PORTARIA</td><td>PORTARIA</td><td>-1</td></tr><tr><th>19</th><td>5113978</td><td>ABADIA DE FATIMA RESENDE</td><td>***.611.031-**</td><td>018****</td><td>TECNICO EM ENFERMAGEM</td><td>D</td><td>0</td><td>406</td><td>0</td><td>-1</td><td>-1</td><td>Sem informa袯</td><td>-1</td><td>Sem informa袯</td><td>missing</td><td>26350000000475</td><td>HOSPITAL UNIVERSITARIO DA UFGD</td><td>26350</td><td>FUND. UNIV FEDERAL DA GRANDE DOURADOS</td><td>15000</td><td>MINISTERIO DA EDUCACAO</td><td>26350000000475</td><td>HOSPITAL UNIVERSITARIO DA UFGD</td><td>26350</td><td>FUND. UNIV FEDERAL DA GRANDE DOURADOS</td><td>15000</td><td>MINISTERIO DA EDUCACAO</td><td>2</td><td>ATIVO PERMANENTE</td><td>missing</td><td>missing</td><td>REGIME JURIDICO UNICO</td><td>40 HORAS SEMANAIS</td><td>09/08/2010</td><td>missing</td><td>29/07/2010</td><td>715</td><td>30/07/2010</td><td>missing</td><td>PORTARIA</td><td>PORTARIA</td><td>MS</td></tr><tr><th>20</th><td>6118494</td><td>ABADIA DE FATIMA ROSA MACEDO</td><td>***.391.966-**</td><td>014****</td><td>Sem informa袯</td><td>missing</td><td>-1</td><td>-1</td><td>-1</td><td>FG</td><td>0001</td><td>FUNCAO GRATIFICADA - IFES</td><td>0071</td><td>SUPERVISOR</td><td>missing</td><td>26274000000029</td><td>PRO REITORIA DE GESTAO DE PESSOAS</td><td>26274</td><td>FUNDACAO UNIV. FEDERAL DE UBERLANDIA</td><td>15000</td><td>MINISTERIO DA EDUCACAO</td><td>26274000000663</td><td>DIRETORIA QUALID VIDA SAUDE  SERVIDOR</td><td>26274</td><td>FUNDACAO UNIV. FEDERAL DE UBERLANDIA</td><td>15000</td><td>MINISTERIO DA EDUCACAO</td><td>1</td><td>ATIVO PERMANENTE</td><td>missing</td><td>missing</td><td>REGIME JURIDICO UNICO</td><td>40 HORAS SEMANAIS</td><td>24/08/2017</td><td>missing</td><td>07/07/2004</td><td>755</td><td>15/07/2004</td><td>missing</td><td>PORTARIA</td><td>PORTARIA</td><td>-1</td></tr><tr><th>21</th><td>6118494</td><td>ABADIA DE FATIMA ROSA MACEDO</td><td>***.391.966-**</td><td>014****</td><td>PSICOLOGO-AREA</td><td>E</td><td>0</td><td>409</td><td>0</td><td>-1</td><td>-1</td><td>Sem informa袯</td><td>-1</td><td>Sem informa袯</td><td>missing</td><td>26274000000029</td><td>PRO REITORIA DE GESTAO DE PESSOAS</td><td>26274</td><td>FUNDACAO UNIV. FEDERAL DE UBERLANDIA</td><td>15000</td><td>MINISTERIO DA EDUCACAO</td><td>26274000000663</td><td>DIRETORIA QUALID VIDA SAUDE  SERVIDOR</td><td>26274</td><td>FUNDACAO UNIV. FEDERAL DE UBERLANDIA</td><td>15000</td><td>MINISTERIO DA EDUCACAO</td><td>2</td><td>ATIVO PERMANENTE</td><td>missing</td><td>missing</td><td>REGIME JURIDICO UNICO</td><td>40 HORAS SEMANAIS</td><td>01/03/2005</td><td>missing</td><td>07/07/2004</td><td>755</td><td>15/07/2004</td><td>missing</td><td>PORTARIA</td><td>PORTARIA</td><td>-1</td></tr><tr><th>22</th><td>1617447</td><td>ABADIA DE MELO COUTINHO</td><td>***.316.491-**</td><td>000****</td><td>AGENTE DE PORTARIA</td><td>S</td><td>0</td><td>III</td><td>0</td><td>-1</td><td>-1</td><td>Sem informa袯</td><td>-1</td><td>Sem informa袯</td><td>missing</td><td>16000000000123</td><td>HOSPITAL MILITAR DA AREA DE BRASILIA</td><td>16000</td><td>COMANDO DO EXERCITO</td><td>40105</td><td>MINISTERIO DA DEFESA</td><td>16000000000123</td><td>HOSPITAL MILITAR DA AREA DE BRASILIA</td><td>16000</td><td>COMANDO DO EXERCITO</td><td>40105</td><td>MINISTERIO DA DEFESA</td><td>2</td><td>ATIVO PERMANENTE</td><td>missing</td><td>missing</td><td>REGIME JURIDICO UNICO</td><td>40 HORAS SEMANAIS</td><td>15/12/1999</td><td>missing</td><td>22/11/1984</td><td>000153DPC</td><td>26/12/1984</td><td>missing</td><td>PORTARIA</td><td>PORTARIA</td><td>DF</td></tr><tr><th>23</th><td>7309188</td><td>ABADIA DOS REIS GONDIM PASSOS</td><td>***.021.301-**</td><td>012****</td><td>PROF ENS BAS TEC TECNOLOGICO-SUBSTITUTO</td><td>D</td><td>0</td><td>missing</td><td>101</td><td>-1</td><td>-1</td><td>Sem informa袯</td><td>-1</td><td>Sem informa袯</td><td>missing</td><td>26414000000060</td><td>DIR. DE ENSINO/CAMPUS BARRA DO GARCAS</td><td>26414</td><td>INSTITUTO FEDERAL DE MATO GROSSO</td><td>15000</td><td>MINISTERIO DA EDUCACAO</td><td>26414000000060</td><td>DIR. DE ENSINO/CAMPUS BARRA DO GARCAS</td><td>26414</td><td>INSTITUTO FEDERAL DE MATO GROSSO</td><td>15000</td><td>MINISTERIO DA EDUCACAO</td><td>2</td><td>CONT.PROF.SUBSTITUTO</td><td>missing</td><td>missing</td><td>CONTRATO TEMPORARIO</td><td>40 HORAS SEMANAIS</td><td>16/05/2018</td><td>missing</td><td>30/06/2018</td><td>90</td><td>16/05/2018</td><td>missing</td><td>CONTRATO</td><td>CONTRATO</td><td>MT</td></tr><tr><th>24</th><td>7505648</td><td>ABADIA DOS REIS NASCIMENTO</td><td>***.922.001-**</td><td>018****</td><td>PROFESSOR DO MAGISTERIO SUPERIOR</td><td>6</td><td>0</td><td>missing</td><td>604</td><td>-1</td><td>-1</td><td>Sem informa袯</td><td>-1</td><td>Sem informa袯</td><td>missing</td><td>26235000000039</td><td>ESCOLA DE AGRONOMIA</td><td>26235</td><td>UNIVERSIDADE FEDERAL DE GOIAS</td><td>15000</td><td>MINISTERIO DA EDUCACAO</td><td>26235000000039</td><td>ESCOLA DE AGRONOMIA</td><td>26235</td><td>UNIVERSIDADE FEDERAL DE GOIAS</td><td>15000</td><td>MINISTERIO DA EDUCACAO</td><td>2</td><td>ATIVO PERMANENTE</td><td>missing</td><td>missing</td><td>REGIME JURIDICO UNICO</td><td>DEDICACAO EXCLUSIVA</td><td>20/05/2011</td><td>missing</td><td>29/04/2011</td><td>1401</td><td>20/05/2011</td><td>missing</td><td>PORTARIA</td><td>PORTARIA</td><td>GO</td></tr><tr><th>25</th><td>5414482</td><td>ABADIA GILDA BUSO MATOSO</td><td>***.945.416-**</td><td>031****</td><td>PROFESSOR DO MAGISTERIO SUPERIOR</td><td>5</td><td>0</td><td>missing</td><td>501</td><td>-1</td><td>-1</td><td>Sem informa袯</td><td>-1</td><td>Sem informa袯</td><td>missing</td><td>26274000000305</td><td>FACULDADE DE MEDICINA</td><td>26274</td><td>FUNDACAO UNIV. FEDERAL DE UBERLANDIA</td><td>15000</td><td>MINISTERIO DA EDUCACAO</td><td>26274000000305</td><td>FACULDADE DE MEDICINA</td><td>26274</td><td>FUNDACAO UNIV. FEDERAL DE UBERLANDIA</td><td>15000</td><td>MINISTERIO DA EDUCACAO</td><td>2</td><td>ATIVO PERMANENTE</td><td>missing</td><td>missing</td><td>REGIME JURIDICO UNICO</td><td>40 HORAS SEMANAIS</td><td>01/07/2013</td><td>missing</td><td>18/06/2013</td><td>1936</td><td>08/11/2012</td><td>missing</td><td>PORTARIA</td><td>PORTARIA</td><td>MG</td></tr><tr><th>26</th><td>406342</td><td>ABADIA MARIA APARECIDA TEIXEIRA</td><td>***.890.176-**</td><td>003****</td><td>AUXILIAR DE SAUDE</td><td>C</td><td>0</td><td>416</td><td>0</td><td>-1</td><td>-1</td><td>Sem informa袯</td><td>-1</td><td>Sem informa袯</td><td>missing</td><td>26254000000019</td><td>HOSP-SETOR DE ENFERMAGEM DO AMBULATORIO</td><td>26254</td><td>UNIVERSIDADE FED.DO TRIANGULO MINEIRO</td><td>15000</td><td>MINISTERIO DA EDUCACAO</td><td>26254000000019</td><td>HOSP-SETOR DE ENFERMAGEM DO AMBULATORIO</td><td>26254</td><td>UNIVERSIDADE FED.DO TRIANGULO MINEIRO</td><td>15000</td><td>MINISTERIO DA EDUCACAO</td><td>2</td><td>ATIVO PERMANENTE</td><td>missing</td><td>missing</td><td>REGIME JURIDICO UNICO</td><td>40 HORAS SEMANAIS</td><td>31/05/2001</td><td>missing</td><td>31/07/1985</td><td>162</td><td>01/08/1985</td><td>missing</td><td>PORTARIA</td><td>PORTARIA</td><td>MG</td></tr><tr><th>27</th><td>6908546</td><td>ABADIA PEREIRA DA SILVA</td><td>***.539.541-**</td><td>005****</td><td>AUX OPERAC SERVICOS DIVERSOS</td><td>S</td><td>0</td><td>III</td><td>0</td><td>-1</td><td>-1</td><td>Sem informa袯</td><td>-1</td><td>Sem informa袯</td><td>missing</td><td>25000000002410</td><td>SUS/MUNICIPAL - GO</td><td>25000</td><td>MINISTERIO DA SAUDE</td><td>-1</td><td>Sem informa袯</td><td>-3</td><td>Inv૩do</td><td>99991</td><td>ESTADOS / MUNICIPIOS / EMPRESAS</td><td>-1</td><td>Sem informa袯</td><td>2</td><td>CEDIDO SUS/LEI 8270</td><td>missing</td><td>missing</td><td>REGIME JURIDICO UNICO</td><td>40 HORAS SEMANAIS</td><td>01/03/2006</td><td>missing</td><td>30/01/1985</td><td>GOAP-1620</td><td>01/02/1985</td><td>missing</td><td>PORTARIA</td><td>PORTARIA</td><td>-1</td></tr><tr><th>28</th><td>5210013</td><td>ABADIA RODRIGUES DA SILVA</td><td>***.296.501-**</td><td>004****</td><td>DATILOGRAFO</td><td>S</td><td>0</td><td>III</td><td>0</td><td>-1</td><td>-1</td><td>Sem informa袯</td><td>-1</td><td>Sem informa袯</td><td>missing</td><td>32000000000088</td><td>SECRETARIA DE PLAN E DESENV ENERGETICO</td><td>32000</td><td>MINISTERIO DE MINAS E ENERGIA</td><td>-1</td><td>Sem informa袯</td><td>32000000000100</td><td>COORDENACAO-GERAL DE FONTES ALTERNATIVAS</td><td>32000</td><td>MINISTERIO DE MINAS E ENERGIA</td><td>-1</td><td>Sem informa袯</td><td>2</td><td>ATIVO PERMANENTE</td><td>missing</td><td>missing</td><td>REGIME JURIDICO UNICO</td><td>40 HORAS SEMANAIS</td><td>22/08/2005</td><td>missing</td><td>14/05/1992</td><td>00</td><td>01/10/1981</td><td>missing</td><td>LEI</td><td>PORTARIA</td><td>-1</td></tr><tr><th>29</th><td>5210013</td><td>ABADIA RODRIGUES DA SILVA</td><td>***.296.501-**</td><td>004****</td><td>Sem informa袯</td><td>missing</td><td>-1</td><td>-1</td><td>-1</td><td>FGR</td><td>0001</td><td>FUNCAO GRATIFICADA LEI 8.216/91</td><td>0094</td><td>FUNCAO GRATIFICADA</td><td>missing</td><td>32000000000088</td><td>SECRETARIA DE PLAN E DESENV ENERGETICO</td><td>32000</td><td>MINISTERIO DE MINAS E ENERGIA</td><td>-1</td><td>Sem informa袯</td><td>32000000000100</td><td>COORDENACAO-GERAL DE FONTES ALTERNATIVAS</td><td>32000</td><td>MINISTERIO DE MINAS E ENERGIA</td><td>-1</td><td>Sem informa袯</td><td>1</td><td>ATIVO PERMANENTE</td><td>missing</td><td>missing</td><td>REGIME JURIDICO UNICO</td><td>40 HORAS SEMANAIS</td><td>09/12/2016</td><td>missing</td><td>14/05/1992</td><td>00</td><td>01/10/1981</td><td>missing</td><td>LEI</td><td>PORTARIA</td><td>-1</td></tr><tr><th>30</th><td>7406431</td><td>ABADIA SIQUEIRA GOMES</td><td>***.348.951-**</td><td>035****</td><td>Sem informa袯</td><td>missing</td><td>-1</td><td>-1</td><td>-1</td><td>DAS</td><td>1022</td><td>DIRECAO E ASSESSORAMENTO SUPERIOR</td><td>0056</td><td>ASSISTENTE</td><td>missing</td><td>-3</td><td>Inv૩do</td><td>13000</td><td>MINIST.DA AGRICULTURA,PECUARIA E ABAST.</td><td>-1</td><td>Sem informa袯</td><td>13000000002934</td><td>SECRETARIA MOB SOC PROD RURAL COOPERATIV</td><td>13000</td><td>MINIST.DA AGRICULTURA,PECUARIA E ABAST.</td><td>-1</td><td>Sem informa袯</td><td>1</td><td>NOMEADO CARGO COMIS.</td><td>missing</td><td>missing</td><td>REGIME JURIDICO UNICO</td><td>40 HORAS SEMANAIS</td><td>03/05/2016</td><td>missing</td><td>02/03/2015</td><td>missing</td><td>missing</td><td>missing</td><td>PORTARIA</td><td>Inv૩do</td><td>-1</td></tr><tr><th>&vellip;</th><td>&vellip;</td><td>&vellip;</td><td>&vellip;</td><td>&vellip;</td><td>&vellip;</td><td>&vellip;</td><td>&vellip;</td><td>&vellip;</td><td>&vellip;</td><td>&vellip;</td><td>&vellip;</td><td>&vellip;</td><td>&vellip;</td><td>&vellip;</td><td>&vellip;</td><td>&vellip;</td><td>&vellip;</td><td>&vellip;</td><td>&vellip;</td><td>&vellip;</td><td>&vellip;</td><td>&vellip;</td><td>&vellip;</td><td>&vellip;</td><td>&vellip;</td><td>&vellip;</td><td>&vellip;</td><td>&vellip;</td><td>&vellip;</td><td>&vellip;</td><td>&vellip;</td><td>&vellip;</td><td>&vellip;</td><td>&vellip;</td><td>&vellip;</td><td>&vellip;</td><td>&vellip;</td><td>&vellip;</td><td>&vellip;</td><td>&vellip;</td><td>&vellip;</td><td>&vellip;</td></tr></tbody></table>"
      ],
      "text/plain": [
       "351×42 DataFrames.DataFrame. Omitted printing of 39 columns\n",
       "│ Row │ Id_SERVIDOR_PORTAL │ NOME                           │ CPF            │\n",
       "├─────┼────────────────────┼────────────────────────────────┼────────────────┤\n",
       "│ 1   │ 5116961            │ AARAO CARLOS LUZ MACAMBIRA     │ ***.017.623-** │\n",
       "│ 2   │ 201964             │ AARAO DIAMANTINO OLIVEIRA      │ ***.056.281-** │\n",
       "│ 3   │ 201964             │ AARAO DIAMANTINO OLIVEIRA      │ ***.056.281-** │\n",
       "│ 4   │ 4405000            │ AARAO FERREIRA LIMA NETO       │ ***.116.132-** │\n",
       "│ 5   │ 4405000            │ AARAO FERREIRA LIMA NETO       │ ***.116.132-** │\n",
       "│ 6   │ 4915841            │ AARAO PEREIRA DE ARAUJO JUNIOR │ ***.031.184-** │\n",
       "│ 7   │ 5105492            │ AARAO SOARES                   │ ***.859.807-** │\n",
       "│ 8   │ 8114023            │ AARAO TEIXEIRA DOS SANTOS      │ ***.086.942-** │\n",
       "│ 9   │ 2671               │ AARON DE SOUSA ALVES           │ ***.291.814-** │\n",
       "│ 10  │ 2671               │ AARON DE SOUSA ALVES           │ ***.291.814-** │\n",
       "│ 11  │ 16237              │ AARON INACIO FREIRE            │ ***.321.857-** │\n",
       "⋮\n",
       "│ 340 │ 3606932            │ ABENILSON DE LIRA BISPO        │ ***.020.114-** │\n",
       "│ 341 │ 9417735            │ ABENISIA RIBEIRO MOREIRA VALE  │ ***.585.035-** │\n",
       "│ 342 │ 9417735            │ ABENISIA RIBEIRO MOREIRA VALE  │ ***.585.035-** │\n",
       "│ 343 │ 6410984            │ ABENON LOURENCO DA SILVA       │ ***.911.692-** │\n",
       "│ 344 │ 912024             │ ABENOR PENA AMANAJAS           │ ***.714.597-** │\n",
       "│ 345 │ 4912986            │ ABERCIO RAMOS GODINHO FILHO    │ ***.122.141-** │\n",
       "│ 346 │ 4917835            │ ABERNON BEZERRA DE MORAIS      │ ***.337.793-** │\n",
       "│ 347 │ 4209480            │ ABERRIONI DALPIAS MOREIRA      │ ***.962.599-** │\n",
       "│ 348 │ 4209480            │ ABERRIONI DALPIAS MOREIRA      │ ***.962.599-** │\n",
       "│ 349 │ 5210098            │ ABEVONE TEIXEIRA RODRIGUES     │ ***.534.692-** │\n",
       "│ 350 │ 7201667            │ ABGAIL DIAS BUENO              │ ***.966.347-** │\n",
       "│ 351 │ 0                  │ FAKE USER                      │ ***.000.000-** │"
      ]
     },
     "execution_count": 4,
     "metadata": {},
     "output_type": "execute_result"
    }
   ],
   "source": [
    "# Loading dataset: all public servants (ex.: only active public servants)\n",
    "path_pservants = \"data-ddj/servidores/201806_Servidores/20180630_Cadastro-350.csv\"\n",
    "pservants = CSV.read(path_pservants,delim=\";\")"
   ]
  },
  {
   "cell_type": "markdown",
   "metadata": {},
   "source": [
    "## Filter \n",
    "\n",
    "* Getting all active (\"regular\" status) people from the party.\n",
    "* Getting the names of all public servants from UFAL."
   ]
  },
  {
   "cell_type": "code",
   "execution_count": 11,
   "metadata": {},
   "outputs": [],
   "source": [
    "regulares_ptal = []\n",
    "for row in eachrow(ptal)\n",
    "    if row[Symbol(\"SITUACAO DO REGISTRO\")] == \"REGULAR\"\n",
    "        push!(regulares_ptal,row[Symbol(\"NOME DO FILIADO\")])\n",
    "    end\n",
    "end"
   ]
  },
  {
   "cell_type": "code",
   "execution_count": 6,
   "metadata": {},
   "outputs": [],
   "source": [
    "pservants_ufal = []\n",
    "for row in eachrow(pservants)\n",
    "    if row[Symbol(\"ORG_EXERCICIO\")] == \"UNIVERSIDADE FEDERAL DE ALAGOAS\"\n",
    "        #push!(pservants_ufal,row[Symbol(\"NOME\")])\n",
    "        if findfirst(regulares_ptal,row[Symbol(\"NOME\")]) != 0\n",
    "            push!(pservants_ufal,row[Symbol(\"NOME\")])\n",
    "        end\n",
    "    end\n",
    "end\n",
    "\n",
    "# TODO Example using Query.jl\n",
    "# query = @from i in pservants_ufal begin\n",
    "#     @where i.Symbol(\"NOME\") == \n",
    "# end"
   ]
  },
  {
   "cell_type": "markdown",
   "metadata": {},
   "source": [
    "_Remark - DISCLAIMER: FAKE USER is mock data._"
   ]
  },
  {
   "cell_type": "markdown",
   "metadata": {},
   "source": [
    "## Visualize"
   ]
  },
  {
   "cell_type": "code",
   "execution_count": 13,
   "metadata": {},
   "outputs": [
    {
     "name": "stdout",
     "output_type": "stream",
     "text": [
      "pservants_ufal = Any[\"FAKE USER\"]\n"
     ]
    },
    {
     "data": {
      "text/plain": [
       "1-element Array{Any,1}:\n",
       " \"FAKE USER\""
      ]
     },
     "execution_count": 13,
     "metadata": {},
     "output_type": "execute_result"
    }
   ],
   "source": [
    "@show pservants_ufal"
   ]
  },
  {
   "cell_type": "markdown",
   "metadata": {},
   "source": [
    "## Story\n",
    "\n",
    "FAKE USER was affiliated to TODO party in TODO and also is a public servant at TODO because she/he believes that TODO."
   ]
  },
  {
   "cell_type": "markdown",
   "metadata": {},
   "source": [
    "---\n",
    "# Question 2\n",
    "_How are distributed the political party affiliation in a Brazilian federal university?_\n",
    "\n",
    "---\n",
    "# Question 3\n",
    "_How often people change political parties?_\n",
    "\n",
    "---\n",
    "# Question 4\n",
    "_How often people join and/or quit a political party?_\n",
    "\n",
    "---\n",
    "# Question 5\n",
    "_Which are the reasons for people quitting the parties? Which is the party that has more judicial reasons for quitting the party?_\n"
   ]
  }
 ],
 "metadata": {
  "kernelspec": {
   "display_name": "Julia 0.6.3",
   "language": "julia",
   "name": "julia-0.6"
  },
  "language_info": {
   "file_extension": ".jl",
   "mimetype": "application/julia",
   "name": "julia",
   "version": "0.6.3"
  }
 },
 "nbformat": 4,
 "nbformat_minor": 2
}
