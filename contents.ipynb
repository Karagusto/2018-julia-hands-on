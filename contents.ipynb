{
 "cells": [
  {
   "cell_type": "markdown",
   "metadata": {},
   "source": [
    "# <center>Introduction to Julia for Scientists</center>\n",
    "\n",
    "<center>**[André Lage-Freitas](http://lattes.cnpq.br/3203407648310274) and [Charles Santana](TODO)**</center>\n",
    "<center>`lage(a)laccan.ufal.br, TODO`</center> \n",
    "\n",
    "### <center>70th Annual Meeting of the Brazilian Society for the Progress of Science (SBPC) 2018</center>\n",
    "\n",
    "<a data-flickr-embed=\"true\"  href=\"http://ra.sbpcnet.org.br/maceio/\" title=\"70a. RA SBPC 2018\"><img src=\"https://farm9.staticflickr.com/8316/8039204779_6eff98a64c_z.jpg\" width=\"640\" height=\"179\" alt=\"Maré No Osso\"></a><script async src=\"//embedr.flickr.com/assets/client-code.js\" charset=\"utf-8\"></script>\n",
    "\n",
    "<center>July, 2018</center>\n",
    "<center>Maceió, Brazil</center>"
   ]
  },
  {
   "cell_type": "markdown",
   "metadata": {},
   "source": [
    "# Contents\n",
    "\n",
    "1. [**Introduction to Julia**](introduction.ipynb)\n",
    "    1. Types\n",
    "    1. Control Flow\n",
    "    1. Functions\n",
    "    1. Multidimensional Arrays\n",
    "1. [**Introduction to Distributed Computing**](distributed_computing_with_julia.ipynb)\n",
    "    1. Master/Worker Architecture\n",
    "    1. Support for distributed communication\n",
    "    1. Tasks\n",
    "    1. Distributed Arrays\n",
    "    1. Distributed MapReduce\n",
    "    1. [CloudArray: Easy Big Data Programming in the Cloud](cloudarray.ipynb)\n",
    "1. [**Data Analysis and Visualization**](data_analysis_visualization.ipynb)\n",
    "    1. ...\n",
    "1. [**Applications: Complex Systems, Ecology, Machine Learning**](applications.ipynb)\n",
    "    1. ...\n",
    "\n",
    "---\n",
    "\n",
    "## Acknowledgements\n",
    "\n",
    "\n",
    "### Disclaimer\n",
    "\n",
    "This material has **no intention to replace any other material on Julia**  (book, tutorial, manual, documentation, etc.). The main goal is to provide another means to learn Julia.\n",
    "\n",
    "The IJulia Notebooks are mainly based on the following materials:\n",
    "\n",
    "1. [Introduction to Julia for Distributed Computing](https://github.com/proflage/2015-julia-hands-on)\n",
    "1. [Hands-on | David Sanders](https://github.com/dpsanders/hands_on_julia)\n",
    "1. [Julia Official Documentation](http://docs.julialang.org/en/latest/manual)\n",
    "1. Bezanson et al. [Julia: A Fresh Approach to Numerical Computing](http://arxiv.org/abs/1411.1607). arXiv paper, 2015.\n",
    "1. Balbaert, Ivo. _Getting Started with Julia Programming_. Packt Publishing Ltd. ISBN 978-78328-479-5. 2015.\n",
    "1. Wikibooks contributors, _Introducing Julia/Modules and packages_. Wikibooks, The Free Textbook Project. [Link.](http://en.wikibooks.org/w/index.php?title=Introducing_Julia/Modules_and_packages&oldid=2963219) (accessed May 30, 2015).\n",
    "1. [Parallel and Distributed Computing with Julia (Jeff Bezanson)](https://www.youtube.com/watch?v=JoRn4ryMclc)\n",
    "\n",
    "\n",
    "### License\n",
    "\n",
    "Feel free to use it under the terms of the [Creative Commons BY-SA](http://creativecommons.org/licenses/by-sa/4.0/)."
   ]
  }
 ],
 "metadata": {
  "kernelspec": {
   "display_name": "Julia 0.6.3",
   "language": "julia",
   "name": "julia-0.6"
  },
  "language_info": {
   "file_extension": ".jl",
   "mimetype": "application/julia",
   "name": "julia",
   "version": "0.6.3"
  }
 },
 "nbformat": 4,
 "nbformat_minor": 1
}
